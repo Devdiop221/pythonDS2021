{
 "cells": [
  {
   "cell_type": "markdown",
   "metadata": {},
   "source": [
    "<center> <a><img src = \"./images/bases.jpg\" width = 500, align = \"center\"></a> </center>\n",
    "\n",
    "# Introduction\n"
   ]
  },
  {
   "cell_type": "markdown",
   "metadata": {},
   "source": [
    "### Un langage interprété, de haut niveau et orienté objet"
   ]
  },
  {
   "cell_type": "markdown",
   "metadata": {},
   "source": [
    "Python est un langage interprété de haut niveau. Par ailleurs, c’est aussi un langage \n",
    "orienté objet ce qui signiﬁe qu’il se base sur des classes qui permettent de simpliﬁer \n",
    "son utilisation. \n",
    "\n",
    "+ **Un langage interprété** :\n",
    "Un **langage interprété** s’oppose à un **langage compilé**, qui demande une compilation du code pour rendre un \n",
    "programme exécutable. Le principal avantage d’un langage interprété est sa simplicité de débogage. À l’inverse, son principal défaut est sa lenteur. À la différence  d’un langage compilé, les blocs de code ne sont pas optimisés aﬁn d’être traités de manière extrêmement rapide par la machine. Dans le cas de Python, on traite le code ligne par ligne avec l’interpréteur Python.\n",
    "\n",
    "\n",
    "+ **Un langage de haut niveau** : \n",
    "un langage de haut niveau est un langage qui se rapproche le plus possible du langage naturel, c’est-à-dire qui se lit « comme il s’applique ». Il est donc extrêmement simple à mettre en œuvre mais peu optimisé. À l’inverse, un langage de bas niveau va se rapprocher le plus possible du langage  de la machine sur lequel il s’applique. Le langage de bas niveau le plus connu est le  langage assembleur.\n",
    "\n",
    "En tant que langage, Python se base sur quelques principes :\n",
    "+ Il est basé sur l’indentation.\n",
    "+ Il est extrêmement souple.\n",
    "+ Ses règles sont ﬁxées par la communauté Python."
   ]
  },
  {
   "cell_type": "markdown",
   "metadata": {},
   "source": [
    "### LES INTERPRÉTEURS : PYTHON ET IPYTHON\n",
    "L’interpréteur, c’est l’outil qui traduit votre code source en action. IPython peut être \n",
    "vu comme une version évoluée de l’interpréteur Python classique."
   ]
  },
  {
   "cell_type": "markdown",
   "metadata": {},
   "source": [
    "#### L’interpréteur Python – une calculatrice évoluée"
   ]
  },
  {
   "cell_type": "markdown",
   "metadata": {},
   "source": [
    "L’interpréteur Python est un outil riche mais qui vous permet aussi de faire des \n",
    "calculs simples. Ainsi, une fois Python lancé depuis l’invite de commande, on pourra \n",
    "avoir :"
   ]
  },
  {
   "cell_type": "code",
   "execution_count": 1,
   "metadata": {},
   "outputs": [
    {
     "data": {
      "text/plain": [
       "15"
      ]
     },
     "execution_count": 1,
     "metadata": {},
     "output_type": "execute_result"
    }
   ],
   "source": [
    "4+11"
   ]
  },
  {
   "cell_type": "markdown",
   "metadata": {},
   "source": [
    "Vous pouvez utiliser cette ligne pour soumettre du code directement ou pour \n",
    "soumettre des ﬁchiers en Python (au format .py)"
   ]
  },
  {
   "cell_type": "code",
   "execution_count": 2,
   "metadata": {},
   "outputs": [],
   "source": [
    "x=3"
   ]
  },
  {
   "cell_type": "code",
   "execution_count": 3,
   "metadata": {},
   "outputs": [
    {
     "name": "stdout",
     "output_type": "stream",
     "text": [
      "3\n"
     ]
    }
   ],
   "source": [
    "print(x)"
   ]
  },
  {
   "cell_type": "markdown",
   "metadata": {},
   "source": [
    "L’interpréteur Python peut être utilisé comme une simple calculatrice avec des \n",
    "opérations mathématiques classiques :"
   ]
  },
  {
   "cell_type": "code",
   "execution_count": 4,
   "metadata": {},
   "outputs": [
    {
     "data": {
      "text/plain": [
       "7"
      ]
     },
     "execution_count": 4,
     "metadata": {},
     "output_type": "execute_result"
    }
   ],
   "source": [
    "2+5"
   ]
  },
  {
   "cell_type": "code",
   "execution_count": 5,
   "metadata": {},
   "outputs": [
    {
     "data": {
      "text/plain": [
       "10"
      ]
     },
     "execution_count": 5,
     "metadata": {},
     "output_type": "execute_result"
    }
   ],
   "source": [
    "2*5"
   ]
  },
  {
   "cell_type": "code",
   "execution_count": 6,
   "metadata": {},
   "outputs": [
    {
     "data": {
      "text/plain": [
       "0.4"
      ]
     },
     "execution_count": 6,
     "metadata": {},
     "output_type": "execute_result"
    }
   ],
   "source": [
    "2/5"
   ]
  },
  {
   "cell_type": "code",
   "execution_count": 7,
   "metadata": {},
   "outputs": [
    {
     "data": {
      "text/plain": [
       "-3"
      ]
     },
     "execution_count": 7,
     "metadata": {},
     "output_type": "execute_result"
    }
   ],
   "source": [
    "2-5"
   ]
  },
  {
   "cell_type": "code",
   "execution_count": 8,
   "metadata": {},
   "outputs": [
    {
     "data": {
      "text/plain": [
       "32"
      ]
     },
     "execution_count": 8,
     "metadata": {},
     "output_type": "execute_result"
    }
   ],
   "source": [
    "2**5"
   ]
  },
  {
   "cell_type": "code",
   "execution_count": 9,
   "metadata": {},
   "outputs": [
    {
     "data": {
      "text/plain": [
       "1"
      ]
     },
     "execution_count": 9,
     "metadata": {},
     "output_type": "execute_result"
    }
   ],
   "source": [
    "5%2"
   ]
  },
  {
   "cell_type": "markdown",
   "metadata": {},
   "source": [
    "On voit ici que la **puissance** est notée ** (à ne pas confondre avec ^ qui est un \n",
    "opérateur logique). Le **modulo** % permet d’extraire le reste de la division entière \n",
    "et % 2 nous permet de savoir si un nombre est pair ou impair.\n",
    "Comme vous pouvez le voir dans cet exemple lorsqu’on divise deux entiers, on \n",
    "obtient bien un nombre décimal (2/5 =0,4).\n",
    "\n",
    "Vous pouvez bien sûr coder dans l’interpréteur Python directement mais nous  avons tendance à préférer un interpréteur amélioré : IPython."
   ]
  },
  {
   "cell_type": "markdown",
   "metadata": {},
   "source": [
    "### Les principes"
   ]
  },
  {
   "cell_type": "markdown",
   "metadata": {},
   "source": [
    "Python utilise comme opérateur d’allocation le signe =.\n",
    "Lorsqu’on alloue une valeur à n’importe quelle structure en Python, on utilise donc l’opérateur  = :"
   ]
  },
  {
   "cell_type": "code",
   "execution_count": 10,
   "metadata": {},
   "outputs": [],
   "source": [
    "var1=20"
   ]
  },
  {
   "cell_type": "markdown",
   "metadata": {},
   "source": [
    "La variable var1 a donc comme valeur 20. Le type de cette variable est inféré automatiquement par Python, ce qui est une spéciﬁcité de ce langage.\n",
    "Les habitués d’autres langages comme C pourront être déroutés par cette spéciﬁcité. On ne donne jamais le type d’une variable, c’est Python qui se charge de le  deviner.\n",
    "\n",
    "Les différents types primitifs sont les suivants :\n",
    "+ int :  entier\n",
    "+ ﬂoat : nombre décimal\n",
    "+ str : chaîne de caractère\n",
    "+ bool : booléen (True ou False)\n",
    "\n",
    "\n",
    "On peut identiﬁer le type d’une variable en utilisant **type()**."
   ]
  },
  {
   "cell_type": "code",
   "execution_count": 11,
   "metadata": {},
   "outputs": [],
   "source": [
    "var1=10\n",
    "var2=3.5\n",
    "var3=\"Python\"\n",
    "var4=True"
   ]
  },
  {
   "cell_type": "code",
   "execution_count": 12,
   "metadata": {},
   "outputs": [
    {
     "data": {
      "text/plain": [
       "int"
      ]
     },
     "execution_count": 12,
     "metadata": {},
     "output_type": "execute_result"
    }
   ],
   "source": [
    "type(var1)"
   ]
  },
  {
   "cell_type": "code",
   "execution_count": 13,
   "metadata": {},
   "outputs": [
    {
     "data": {
      "text/plain": [
       "float"
      ]
     },
     "execution_count": 13,
     "metadata": {},
     "output_type": "execute_result"
    }
   ],
   "source": [
    "type(var2)"
   ]
  },
  {
   "cell_type": "code",
   "execution_count": 14,
   "metadata": {},
   "outputs": [
    {
     "data": {
      "text/plain": [
       "str"
      ]
     },
     "execution_count": 14,
     "metadata": {},
     "output_type": "execute_result"
    }
   ],
   "source": [
    "type(var3)"
   ]
  },
  {
   "cell_type": "code",
   "execution_count": 15,
   "metadata": {},
   "outputs": [
    {
     "data": {
      "text/plain": [
       "bool"
      ]
     },
     "execution_count": 15,
     "metadata": {},
     "output_type": "execute_result"
    }
   ],
   "source": [
    "type(var4)"
   ]
  },
  {
   "cell_type": "markdown",
   "metadata": {},
   "source": [
    "Si on change la valeur d’une variable en utilisant l’opérateur d’allocation (=), on change aussi son type :"
   ]
  },
  {
   "cell_type": "code",
   "execution_count": 16,
   "metadata": {},
   "outputs": [],
   "source": [
    "var4=44"
   ]
  },
  {
   "cell_type": "markdown",
   "metadata": {},
   "source": [
    "L’autre principe de base de Python, c’est l’indentation. Ceci veut dire que les \n",
    "limites des instructions et des blocs sont déﬁnies par la mise en page et non par des \n",
    "symboles spéciﬁques. Avec Python, vous devez utiliser l’indentation et le passage \n",
    "à la ligne pour délimiter votre code. Ceci vous permet de ne pas vous préoccuper \n",
    "d’autres symboles délimiteurs de blocs. Par convention, on utilise une indentation à \n",
    "quatre espaces. Par exemple, si on veut mettre en place une simple condition :"
   ]
  },
  {
   "cell_type": "code",
   "execution_count": 17,
   "metadata": {},
   "outputs": [],
   "source": [
    "if var1<var4:\n",
    "    var1=var4*2"
   ]
  },
  {
   "cell_type": "markdown",
   "metadata": {},
   "source": [
    "### Un langage tout objet"
   ]
  },
  {
   "cell_type": "markdown",
   "metadata": {},
   "source": [
    "Python est un langage orienté objet. Ceci veut dire que les structures utilisées en \n",
    "Python sont en fait toutes des objets. Un objet représente une structure qui possède des \n",
    "propriétés (ce sont des caractéristiques de l’objet) et des méthodes (ce sont des fonctions \n",
    "qui s’appliquent sur l’objet). Il est issu d’une classe qui est déﬁnie de manière simple.\n",
    "En Python, tout est objet. Ainsi les variables, les fonctions, et toutes structures, \n",
    "sont des Python Object. Cela permet une grande souplesse.\n",
    "\n",
    "Par exemple, une chaîne de caractères est un objet de la classe str. Ses propriétés \n",
    "et méthodes peuvent être identiﬁées en utilisant le point après le nom de l’objet \n",
    "(en utilisant la tabulation avec IPython, toutes les propriétés et méthodes d’un objet \n",
    "apparaissent)."
   ]
  },
  {
   "cell_type": "code",
   "execution_count": 18,
   "metadata": {},
   "outputs": [
    {
     "data": {
      "text/plain": [
       "'PYTHON'"
      ]
     },
     "execution_count": 18,
     "metadata": {},
     "output_type": "execute_result"
    }
   ],
   "source": [
    "chaine1=\"Python\"\n",
    "chaine1.upper()"
   ]
  },
  {
   "cell_type": "markdown",
   "metadata": {},
   "source": [
    "On voit ici que la méthode .upper() de l’objet « chaîne de caractères » permet de \n",
    "mettre en majuscule les termes stockés dans la chaîne de caractères."
   ]
  },
  {
   "cell_type": "markdown",
   "metadata": {},
   "source": [
    "### Les opérateurs logiques"
   ]
  },
  {
   "cell_type": "markdown",
   "metadata": {},
   "source": [
    "Si on veut vériﬁer qu’un objet est bien de la classe attendue, le plus efﬁcace est d’utiliser l’opérateur **is** ou **is not** :"
   ]
  },
  {
   "cell_type": "code",
   "execution_count": 19,
   "metadata": {},
   "outputs": [
    {
     "data": {
      "text/plain": [
       "True"
      ]
     },
     "execution_count": 19,
     "metadata": {},
     "output_type": "execute_result"
    }
   ],
   "source": [
    "type(chaine1) is str"
   ]
  },
  {
   "cell_type": "markdown",
   "metadata": {},
   "source": [
    "Par ailleurs, les opérateurs logiques de Python sont résumés dans le tableau suivant :"
   ]
  },
  {
   "cell_type": "markdown",
   "metadata": {},
   "source": [
    "<center> <a><img src = \"./images/logi1.png\" width = 500, align = \"center\"></a> </center>"
   ]
  },
  {
   "cell_type": "markdown",
   "metadata": {},
   "source": [
    "<center> <a><img src = \"./images/log2.png\" width = 500, align = \"center\"></a> </center>"
   ]
  },
  {
   "cell_type": "markdown",
   "metadata": {},
   "source": [
    " ## LES STRUCTURES (TUPLES, LISTES, DICTIONNAIRES)"
   ]
  },
  {
   "cell_type": "markdown",
   "metadata": {},
   "source": [
    "Python est basé sur trois structures de références : les tuples, les listes et les  dictionnaires. Ces structures sont en fait des objets qui peuvent contenir d’autres  objets. Elles ont des utilités assez différentes et vous permettent de stocker des  informations de tous types.\n",
    "\n",
    "Ces structures ont un certain nombre de points communs :\n",
    "+ Pour extraire un ou plusieurs objets d’une structure, on utilise toujours les crochets [ ]\n",
    "+ Pour les structures indexées numériquement (tuples et listes), les structures sont indexées à 0 (la première position est la position 0)\n",
    "\n",
    "###  Les tuples\n",
    "\n",
    "Il s’agit d’une structure rassemblant plusieurs objets dans un ordre indexé. Sa forme n’est pas **modiﬁable (immuable)** une fois créée et elle se déﬁnit en utilisant  des parenthèses. Elle n’a qu’une seule dimension.\n",
    "On peut stocker tout type d’objets dans un tuple. Par exemple, si vous voulez créer un tuple avec différents objets, on utilise :"
   ]
  },
  {
   "cell_type": "code",
   "execution_count": 20,
   "metadata": {},
   "outputs": [],
   "source": [
    "tup1=(1, True, 7.5,9)"
   ]
  },
  {
   "cell_type": "markdown",
   "metadata": {},
   "source": [
    "On peut aussi créer un tuple en utilisant la fonction tuple().\n",
    "L’accès aux valeurs d’un tuple se fait par l’indexation classique des structures. \n",
    "Ainsi, si on veut accéder au troisième élément de notre tuple, on utilise :"
   ]
  },
  {
   "cell_type": "code",
   "execution_count": 21,
   "metadata": {},
   "outputs": [
    {
     "data": {
      "text/plain": [
       "7.5"
      ]
     },
     "execution_count": 21,
     "metadata": {},
     "output_type": "execute_result"
    }
   ],
   "source": [
    "tup1[2]"
   ]
  },
  {
   "cell_type": "markdown",
   "metadata": {},
   "source": [
    "Les tuples peuvent être intéressants car ils requièrent peu de mémoire. D’autre part, ils sont utilisés en sorties des fonctions renvoyant plusieurs valeurs (voir plus loin sur les fonctions).\n",
    "\n",
    "Les tuples en tant que structures sont des objets. Ils ont des méthodes qui leur sont propres. Celles-ci sont peu nombreuses pour un tuple :"
   ]
  },
  {
   "cell_type": "code",
   "execution_count": 22,
   "metadata": {},
   "outputs": [
    {
     "data": {
      "text/plain": [
       "['__add__',\n",
       " '__class__',\n",
       " '__contains__',\n",
       " '__delattr__',\n",
       " '__dir__',\n",
       " '__doc__',\n",
       " '__eq__',\n",
       " '__format__',\n",
       " '__ge__',\n",
       " '__getattribute__',\n",
       " '__getitem__',\n",
       " '__getnewargs__',\n",
       " '__gt__',\n",
       " '__hash__',\n",
       " '__init__',\n",
       " '__init_subclass__',\n",
       " '__iter__',\n",
       " '__le__',\n",
       " '__len__',\n",
       " '__lt__',\n",
       " '__mul__',\n",
       " '__ne__',\n",
       " '__new__',\n",
       " '__reduce__',\n",
       " '__reduce_ex__',\n",
       " '__repr__',\n",
       " '__rmul__',\n",
       " '__setattr__',\n",
       " '__sizeof__',\n",
       " '__str__',\n",
       " '__subclasshook__',\n",
       " 'count',\n",
       " 'index']"
      ]
     },
     "execution_count": 22,
     "metadata": {},
     "output_type": "execute_result"
    }
   ],
   "source": [
    "dir(tup1)"
   ]
  },
  {
   "cell_type": "code",
   "execution_count": 23,
   "metadata": {},
   "outputs": [
    {
     "data": {
      "text/plain": [
       "1"
      ]
     },
     "execution_count": 23,
     "metadata": {},
     "output_type": "execute_result"
    }
   ],
   "source": [
    "tup1.count(9)"
   ]
  },
  {
   "cell_type": "markdown",
   "metadata": {},
   "source": [
    "### Les listes\n",
    "La liste est la structure de référence en Python. Elle est **modiﬁable** et peut contenir n’importe quel objet."
   ]
  },
  {
   "cell_type": "markdown",
   "metadata": {},
   "source": [
    "#### Création d’une liste\n",
    "On crée une liste en utilisant des crochets :"
   ]
  },
  {
   "cell_type": "code",
   "execution_count": 24,
   "metadata": {},
   "outputs": [],
   "source": [
    "liste1=[3,5,6, True]"
   ]
  },
  {
   "cell_type": "markdown",
   "metadata": {},
   "source": [
    "On peut aussi utiliser la fonction list().\n",
    "La structure d’une liste est modiﬁable. Elle comporte de nombreuses méthodes :\n",
    "+ .append() : ajoute une valeur en ﬁn de liste\n",
    "+ .insert(i,val) : insert une valeur à l’indice i\n",
    "+ .pop(i) : extrait la valeur de l’indice i\n",
    "+ .reverse() : inverse la liste\n",
    "+ .extend() : étend la liste grâce à une liste de valeurs"
   ]
  },
  {
   "cell_type": "markdown",
   "metadata": {},
   "source": [
    "Les listes possèdent d’autres méthodes notamment :\n",
    "+ .index(val) : renvoie l’indice de la valeur val\n",
    "+ .count(val) : renvoie le nombre d’occurrences de val\n",
    "+ .remove(val) : retire la première occurrence de la valeur val de la liste"
   ]
  },
  {
   "cell_type": "markdown",
   "metadata": {},
   "source": [
    "### Extraire un élément d’une liste"
   ]
  },
  {
   "cell_type": "markdown",
   "metadata": {},
   "source": [
    "Comme nous avons pu le voir plus haut, il est possible d’extraire un élément en \n",
    "utilisant les crochets :"
   ]
  },
  {
   "cell_type": "code",
   "execution_count": 25,
   "metadata": {},
   "outputs": [
    {
     "data": {
      "text/plain": [
       "3"
      ]
     },
     "execution_count": 25,
     "metadata": {},
     "output_type": "execute_result"
    }
   ],
   "source": [
    "liste1[0]"
   ]
  },
  {
   "cell_type": "markdown",
   "metadata": {},
   "source": [
    "On est souvent intéressé par l’extraction de plusieurs éléments. On le fait en utilisant les deux points :"
   ]
  },
  {
   "cell_type": "code",
   "execution_count": 26,
   "metadata": {},
   "outputs": [
    {
     "data": {
      "text/plain": [
       "[3, 5]"
      ]
     },
     "execution_count": 26,
     "metadata": {},
     "output_type": "execute_result"
    }
   ],
   "source": [
    "liste1[0:2]"
   ]
  },
  {
   "cell_type": "code",
   "execution_count": 27,
   "metadata": {},
   "outputs": [
    {
     "data": {
      "text/plain": [
       "[3, 5]"
      ]
     },
     "execution_count": 27,
     "metadata": {},
     "output_type": "execute_result"
    }
   ],
   "source": [
    "liste1[:2]"
   ]
  },
  {
   "cell_type": "markdown",
   "metadata": {},
   "source": [
    "Dans cet exemple, on voit que ce système extrait deux éléments : l’élément indexé en 0 et celui indexé en position 1. On a donc comme règle que i : j va de l’élément i  inclus à l’élément j non inclus. Voici quelques autres exemples :"
   ]
  },
  {
   "cell_type": "code",
   "execution_count": 28,
   "metadata": {},
   "outputs": [
    {
     "data": {
      "text/plain": [
       "True"
      ]
     },
     "execution_count": 28,
     "metadata": {},
     "output_type": "execute_result"
    }
   ],
   "source": [
    "# Extraire le dernier élément\n",
    "liste1[-1]"
   ]
  },
  {
   "cell_type": "code",
   "execution_count": 29,
   "metadata": {},
   "outputs": [
    {
     "data": {
      "text/plain": [
       "[5, 6, True]"
      ]
     },
     "execution_count": 29,
     "metadata": {},
     "output_type": "execute_result"
    }
   ],
   "source": [
    "# Extraire les 3 derniers éléments\n",
    "liste1[-3 :]"
   ]
  },
  {
   "cell_type": "markdown",
   "metadata": {},
   "source": [
    "### Un exemple"
   ]
  },
  {
   "cell_type": "markdown",
   "metadata": {},
   "source": [
    "Créez une liste de 7 pays. Essayer d’extraire les trois premiers  et les trois derniers."
   ]
  },
  {
   "cell_type": "code",
   "execution_count": null,
   "metadata": {},
   "outputs": [],
   "source": []
  },
  {
   "cell_type": "code",
   "execution_count": null,
   "metadata": {},
   "outputs": [],
   "source": []
  },
  {
   "cell_type": "code",
   "execution_count": null,
   "metadata": {},
   "outputs": [],
   "source": []
  },
  {
   "cell_type": "markdown",
   "metadata": {},
   "source": [
    "Il existe d’autres fonctions sur les listes qui nous intéresseront plus tard dans ce \n",
    "chapitre."
   ]
  },
  {
   "cell_type": "markdown",
   "metadata": {},
   "source": [
    "### Les comprehension lists"
   ]
  },
  {
   "cell_type": "markdown",
   "metadata": {},
   "source": [
    "Il s’agit de listes construites de manière itérative. Elles sont souvent très utiles car \n",
    "elles sont plus performantes que l’utilisation de boucles pour construire des listes.\n",
    "\n",
    "En voici un exemple simple :"
   ]
  },
  {
   "cell_type": "code",
   "execution_count": 30,
   "metadata": {},
   "outputs": [],
   "source": [
    "list_init=[4,6,7,8]\n",
    "list_comp=[val**2 for val in list_init if val % 2 == 0]"
   ]
  },
  {
   "cell_type": "code",
   "execution_count": 31,
   "metadata": {},
   "outputs": [
    {
     "data": {
      "text/plain": [
       "[16, 36, 64]"
      ]
     },
     "execution_count": 31,
     "metadata": {},
     "output_type": "execute_result"
    }
   ],
   "source": [
    "list_comp"
   ]
  },
  {
   "cell_type": "markdown",
   "metadata": {},
   "source": [
    "La liste liste_comp permet donc de stocker les éléments pairs de list_init mis au \n",
    "carré.\n",
    "On  aura :"
   ]
  },
  {
   "cell_type": "code",
   "execution_count": 32,
   "metadata": {},
   "outputs": [
    {
     "name": "stdout",
     "output_type": "stream",
     "text": [
      "[16, 36, 64]\n"
     ]
    }
   ],
   "source": [
    "print(list_comp)"
   ]
  },
  {
   "cell_type": "markdown",
   "metadata": {},
   "source": [
    "Cette notion de comprehension list est très efﬁcace. Elle permet d’éviter du \n",
    "code inutile (boucles sur une liste) et est plus performante qu’une création de liste itérativement. Elle existe aussi sur les dictionnaires mais pas sur les tuples qui sont \n",
    "immuables. Nous pourrons utiliser des comprenhension lists dans le cadre de la \n",
    "manipulation de tableaux de données."
   ]
  },
  {
   "cell_type": "markdown",
   "metadata": {},
   "source": [
    "### Les chaînes de caractères – des listes de caractères"
   ]
  },
  {
   "cell_type": "markdown",
   "metadata": {},
   "source": [
    "Les chaînes de caractères en Python sont codées par défaut (depuis Python 3) en \n",
    "Unicode. On peut déclarer une chaîne de caractères de trois manières :"
   ]
  },
  {
   "cell_type": "code",
   "execution_count": 33,
   "metadata": {},
   "outputs": [],
   "source": [
    "chaine1=\"Python pour le data scientist\""
   ]
  },
  {
   "cell_type": "code",
   "execution_count": 34,
   "metadata": {},
   "outputs": [],
   "source": [
    "chaine2='Python pour le data scientist'"
   ]
  },
  {
   "cell_type": "markdown",
   "metadata": {},
   "source": [
    "On utilisera le plus souvent la première. Une chaîne de caractères est en fait une liste de caractères et nous allons pouvoir travailler sur les éléments d’une chaîne de caractères comme sur ceux d’une liste :"
   ]
  },
  {
   "cell_type": "code",
   "execution_count": 35,
   "metadata": {},
   "outputs": [
    {
     "name": "stdout",
     "output_type": "stream",
     "text": [
      "Python\n",
      "data scientist\n",
      "data \n"
     ]
    }
   ],
   "source": [
    "print(chaine1[:6])\n",
    "print(chaine1[-14:])\n",
    "print(chaine1[15:20])"
   ]
  },
  {
   "cell_type": "markdown",
   "metadata": {},
   "source": [
    "Les chaînes de caractères peuvent être facilement transformées en listes :"
   ]
  },
  {
   "cell_type": "code",
   "execution_count": 36,
   "metadata": {},
   "outputs": [
    {
     "name": "stdout",
     "output_type": "stream",
     "text": [
      "['Python', 'pour', 'le', 'data', 'scientist']\n"
     ]
    }
   ],
   "source": [
    "# on sépare les éléments en utilisant l’espace\n",
    "liste1=chaine1.split()\n",
    "print(liste1)"
   ]
  },
  {
   "cell_type": "code",
   "execution_count": 37,
   "metadata": {},
   "outputs": [
    {
     "name": "stdout",
     "output_type": "stream",
     "text": [
      "Python pour le data scientist\n"
     ]
    }
   ],
   "source": [
    "# on joint les éléments avec l’espace\n",
    "chaine1bis=\" \".join(liste1)\n",
    "print(chaine1bis)"
   ]
  },
  {
   "cell_type": "code",
   "execution_count": 64,
   "metadata": {},
   "outputs": [],
   "source": [
    "x= \"abac, bp \""
   ]
  },
  {
   "cell_type": "code",
   "execution_count": 65,
   "metadata": {},
   "outputs": [
    {
     "data": {
      "text/plain": [
       "'abac, bp'"
      ]
     },
     "execution_count": 65,
     "metadata": {},
     "output_type": "execute_result"
    }
   ],
   "source": [
    "x.rstrip(\" \")"
   ]
  },
  {
   "cell_type": "markdown",
   "metadata": {},
   "source": [
    "Il existe de nombreuses méthodes sur les chaînes de caractères en Python. Un \n",
    "certain nombre sont rassemblées dans le tableau suivant :"
   ]
  },
  {
   "cell_type": "markdown",
   "metadata": {},
   "source": [
    "<center> <a><img src = \"./images/str1.png\" width = 500, align = \"center\"></a> </center>"
   ]
  },
  {
   "cell_type": "markdown",
   "metadata": {},
   "source": [
    "<center> <a><img src = \"./images/str2.png\" width = 500, align = \"center\"></a> </center>"
   ]
  },
  {
   "cell_type": "markdown",
   "metadata": {},
   "source": [
    "Il existe de nombreuses autres spéciﬁcités liées aux chaînes de caractères que \n",
    "nous découvrirons tout au long de l’ouvrage."
   ]
  },
  {
   "cell_type": "markdown",
   "metadata": {},
   "source": [
    "### Les dictionnaires\n",
    "\n",
    "Les dictionnaires constituent une troisième structure centrale pour développer en Python. Ils permettent un stockage clé-valeur. Jusqu’ici nous avons utilisé des structures se basant sur une indexation numérique. Ainsi dans une liste, on accède à un élément en utilisant sa position list1[0]. Dans un dictionnaire, on va accéder à un  élément en utilisant une clé déﬁnie lors de la création du dictionnaire.\n",
    "\n",
    "On déﬁnit un dictionnaire avec les accolades :"
   ]
  },
  {
   "cell_type": "code",
   "execution_count": 2,
   "metadata": {},
   "outputs": [],
   "source": [
    "dict1={\"cle1\":[1,5], \"cle2\":True, \"cle3\":3}"
   ]
  },
  {
   "cell_type": "markdown",
   "metadata": {},
   "source": [
    "Cette structure ne demande aucune homogénéité de type dans les valeurs. De ce \n",
    "fait, on pourra avoir une liste comme valeur1, un booléen comme valeur2 et un entier \n",
    "comme valeur3.\n",
    "\n",
    "Pour accéder à un élément d’un dictionnaire, on utilise :"
   ]
  },
  {
   "cell_type": "code",
   "execution_count": 3,
   "metadata": {},
   "outputs": [
    {
     "data": {
      "text/plain": [
       "[1, 5]"
      ]
     },
     "execution_count": 3,
     "metadata": {},
     "output_type": "execute_result"
    }
   ],
   "source": [
    "dict1[\"cle1\"]"
   ]
  },
  {
   "cell_type": "markdown",
   "metadata": {},
   "source": [
    "Pour afﬁcher toutes les clés d’un dictionnaire, on utilise :"
   ]
  },
  {
   "cell_type": "code",
   "execution_count": 4,
   "metadata": {},
   "outputs": [
    {
     "data": {
      "text/plain": [
       "dict_keys(['cle1', 'cle2', 'cle3'])"
      ]
     },
     "execution_count": 4,
     "metadata": {},
     "output_type": "execute_result"
    }
   ],
   "source": [
    "dict1.keys()"
   ]
  },
  {
   "cell_type": "markdown",
   "metadata": {},
   "source": [
    "Pour afﬁcher toutes les valeurs d’un dictionnaire, on utilise :"
   ]
  },
  {
   "cell_type": "code",
   "execution_count": 5,
   "metadata": {},
   "outputs": [
    {
     "data": {
      "text/plain": [
       "dict_items([('cle1', [1, 5]), ('cle2', True), ('cle3', 3)])"
      ]
     },
     "execution_count": 5,
     "metadata": {},
     "output_type": "execute_result"
    }
   ],
   "source": [
    "dict1.items()\n"
   ]
  },
  {
   "cell_type": "markdown",
   "metadata": {},
   "source": [
    "On peut facilement modiﬁer ou ajouter une clé à un dictionnaire :"
   ]
  },
  {
   "cell_type": "code",
   "execution_count": 140,
   "metadata": {},
   "outputs": [],
   "source": [
    "dict1[\"cle4\"]=4"
   ]
  },
  {
   "cell_type": "code",
   "execution_count": 7,
   "metadata": {},
   "outputs": [
    {
     "data": {
      "text/plain": [
       "dict_items([('cle1', [1, 5]), ('cle2', True), ('cle3', 3)])"
      ]
     },
     "execution_count": 7,
     "metadata": {},
     "output_type": "execute_result"
    }
   ],
   "source": [
    "dict1.items()"
   ]
  },
  {
   "cell_type": "code",
   "execution_count": 10,
   "metadata": {},
   "outputs": [
    {
     "data": {
      "text/plain": [
       "[[1, 5], True, 3]"
      ]
     },
     "execution_count": 10,
     "metadata": {},
     "output_type": "execute_result"
    }
   ],
   "source": [
    "[j for i,j in dict1.items()]"
   ]
  },
  {
   "cell_type": "markdown",
   "metadata": {},
   "source": [
    "On peut aussi supprimer une clé (et la valeur associée) dans un dictionnaire :"
   ]
  },
  {
   "cell_type": "code",
   "execution_count": 141,
   "metadata": {},
   "outputs": [],
   "source": [
    "del dict1[\"cle4\"]"
   ]
  },
  {
   "cell_type": "markdown",
   "metadata": {},
   "source": [
    "Dès que vous serez plus aguerri en Python, vous utiliserez davantage les dictionnaires. Dans un premier temps nous avons tendance à privilégier les listes aux dictionnaires car elles sont souvent plus intuitives (avec une indexation numérique).\n",
    "Toutefois un Pythoniste plus expert se rendra compte rapidement de l’utilité des dictionnaires. On pourra notamment y stocker les données ainsi que les paramètres d’un modèle de manière très simple. De plus, la souplesse de la boucle for de Python s’adapte très bien aux dictionnaires et les rend très efﬁcaces lorsqu’ils sont bien  construits."
   ]
  },
  {
   "cell_type": "markdown",
   "metadata": {},
   "source": [
    "## LA PROGRAMMATION (CONDITIONS, BOUCLES…)"
   ]
  },
  {
   "cell_type": "markdown",
   "metadata": {},
   "source": [
    "Tout d’abord, il faut clariﬁer un point important : Python est un langage très simple \n",
    "à appréhender mais il a tout de même un défaut : sa lenteur. L’utilisation d’une boucle \n",
    "en Python n’est pas un processus efﬁcace en termes de rapidité de calcul, elle ne \n",
    "doit servir que dans les cas où le nombre d’itérations de la boucle reste faible. Par \n",
    "exemple, si vous avez des dizaines de milliers de documents à charger pour effectuer \n",
    "un traitement, on se rend très vite compte de la lourdeur d’un processus basé sur \n",
    "une boucle et on préfère bien souvent d’autres outils plus efﬁcaces pour charger en \n",
    "groupes des données ou pour le faire de manière parallélisée."
   ]
  },
  {
   "cell_type": "markdown",
   "metadata": {},
   "source": [
    "### Les conditions\n",
    "Une condition en Python est très simple à mettre en œuvre, il s’agit d’un mot clé **if**. Comme mentionné précédemment, le langage Python est basé sur l’indentation  de votre code. On utilisera pour cette indentation un décalage avec quatre espaces. \n",
    "Heureusement, des outils comme Spyder ou les Jupyter notebooks généreront automatiquement cette indentation.\n",
    "Voici notre première condition qui veut dire « si a est True alors afﬁcher “c’est \n",
    "vrai“  » :"
   ]
  },
  {
   "cell_type": "code",
   "execution_count": 72,
   "metadata": {},
   "outputs": [],
   "source": [
    "a=True"
   ]
  },
  {
   "cell_type": "code",
   "execution_count": 73,
   "metadata": {},
   "outputs": [
    {
     "name": "stdout",
     "output_type": "stream",
     "text": [
      "c’est vrai\n"
     ]
    }
   ],
   "source": [
    "if a is True :\n",
    "    print(\"c’est vrai\")"
   ]
  },
  {
   "cell_type": "markdown",
   "metadata": {},
   "source": [
    "Il n’y a pas de sortie de la condition, c’est l’indentation qui va permettre de la gérer. \n",
    "Généralement, on s’intéresse aussi au complément de cette condition, on utilisera \n",
    "pour cela else :"
   ]
  },
  {
   "cell_type": "code",
   "execution_count": 74,
   "metadata": {},
   "outputs": [
    {
     "name": "stdout",
     "output_type": "stream",
     "text": [
      "c’est vrai\n"
     ]
    }
   ],
   "source": [
    "if a is True :\n",
    "    print(\"c’est vrai\")\n",
    "else :\n",
    "    print(\"ce n’est pas vrai\")"
   ]
  },
  {
   "cell_type": "markdown",
   "metadata": {},
   "source": [
    "On peut avoir un autre cas, si notre variable a n’est pas forcément un booléen, on \n",
    "utilise  elif :"
   ]
  },
  {
   "cell_type": "code",
   "execution_count": 75,
   "metadata": {},
   "outputs": [
    {
     "name": "stdout",
     "output_type": "stream",
     "text": [
      "c’est vrai\n"
     ]
    }
   ],
   "source": [
    "if a is True :\n",
    "    print(\"c’est vrai\")\n",
    "elif a is False :\n",
    "    print(\"c’est faux\")\n",
    "else :\n",
    "    print(\"ce n’est pas un booléen\")"
   ]
  },
  {
   "cell_type": "markdown",
   "metadata": {},
   "source": [
    "Les opérateurs de comparaisons sont rassemblés dans le tableau suivant :"
   ]
  },
  {
   "cell_type": "markdown",
   "metadata": {},
   "source": [
    "<center> <a><img src = \"./images/comp.png\" width = 500, align = \"center\"></a> </center>"
   ]
  },
  {
   "cell_type": "markdown",
   "metadata": {},
   "source": [
    "Les opérateurs de comparaisons sont assez souples sur les différents types. Ainsi, \n",
    "on  a :"
   ]
  },
  {
   "cell_type": "code",
   "execution_count": 76,
   "metadata": {},
   "outputs": [
    {
     "data": {
      "text/plain": [
       "True"
      ]
     },
     "execution_count": 76,
     "metadata": {},
     "output_type": "execute_result"
    }
   ],
   "source": [
    "# True est égal à 1\n",
    "True == 1"
   ]
  },
  {
   "cell_type": "code",
   "execution_count": 77,
   "metadata": {},
   "outputs": [
    {
     "data": {
      "text/plain": [
       "True"
      ]
     },
     "execution_count": 77,
     "metadata": {},
     "output_type": "execute_result"
    }
   ],
   "source": [
    "# False est égal à 0\n",
    "False == 0"
   ]
  },
  {
   "cell_type": "code",
   "execution_count": 78,
   "metadata": {},
   "outputs": [
    {
     "data": {
      "text/plain": [
       "False"
      ]
     },
     "execution_count": 78,
     "metadata": {},
     "output_type": "execute_result"
    }
   ],
   "source": [
    "# mais True n’est pas 1\n",
    "True is 1"
   ]
  },
  {
   "cell_type": "code",
   "execution_count": 79,
   "metadata": {},
   "outputs": [
    {
     "data": {
      "text/plain": [
       "True"
      ]
     },
     "execution_count": 79,
     "metadata": {},
     "output_type": "execute_result"
    }
   ],
   "source": [
    "True > False"
   ]
  },
  {
   "cell_type": "code",
   "execution_count": 80,
   "metadata": {},
   "outputs": [
    {
     "data": {
      "text/plain": [
       "True"
      ]
     },
     "execution_count": 80,
     "metadata": {},
     "output_type": "execute_result"
    }
   ],
   "source": [
    "# l’ordre alphabétique prime\n",
    "\"Python\" > \"Java\""
   ]
  },
  {
   "cell_type": "code",
   "execution_count": 81,
   "metadata": {},
   "outputs": [
    {
     "data": {
      "text/plain": [
       "False"
      ]
     },
     "execution_count": 81,
     "metadata": {},
     "output_type": "execute_result"
    }
   ],
   "source": [
    "\"Java\"< \"C\""
   ]
  },
  {
   "cell_type": "markdown",
   "metadata": {},
   "source": [
    "## Les boucles\n",
    "Les boucles sont des éléments centraux de la plupart des langages de programmation. Python ne déroge pas à cette règle. Il faut néanmoins être très prudent avec un langage interprété tel que Python. En effet, le traitement des boucles est lent en  Python et nous l’utiliserons dans le cadre de boucles à peu d’itérations. Nous éviterons de créer une boucle se répétant des milliers de fois sur les lignes d’un tableau  de données. Cependant, nous pourrons utiliser une boucle sur les colonnes d’un tableau de données à quelques dizaines de colonnes."
   ]
  },
  {
   "cell_type": "markdown",
   "metadata": {},
   "source": [
    "### La boucle for\n",
    "La boucle en Python a un format un peu spéciﬁque, il s’agit d’une boucle sur les \n",
    "éléments d’une structure. On écrira :"
   ]
  },
  {
   "cell_type": "code",
   "execution_count": 82,
   "metadata": {},
   "outputs": [
    {
     "name": "stdout",
     "output_type": "stream",
     "text": [
      "1\n",
      "2\n"
     ]
    }
   ],
   "source": [
    "for elem in [1, 2] :\n",
    "    print(elem)"
   ]
  },
  {
   "cell_type": "markdown",
   "metadata": {},
   "source": [
    "Ce morceau de code va vous permettre d’afﬁcher 1 et 2. Ainsi l’itérateur de la boucle (elem dans notre cas) prend donc les valeurs des éléments de la structure se trouvant en seconde position (après le in). Ces éléments peuvent être dans différentes structures mais on préférera généralement des listes."
   ]
  },
  {
   "cell_type": "markdown",
   "metadata": {},
   "source": [
    "### Les fonctions range, zip et enumerate"
   ]
  },
  {
   "cell_type": "markdown",
   "metadata": {},
   "source": [
    "Ces trois fonctions sont des fonctions très utiles, elles permettent de créer des objets spéciﬁques qui pourront être utiles dans votre code pour vos boucles. La fonction range() permet de générer une suite de nombres, en partant d’un  nombre donné ou de 0 par défaut et en allant jusqu’à un nombre non inclus :"
   ]
  },
  {
   "cell_type": "code",
   "execution_count": 83,
   "metadata": {},
   "outputs": [
    {
     "name": "stdout",
     "output_type": "stream",
     "text": [
      "[0, 1, 2, 3, 4]\n"
     ]
    }
   ],
   "source": [
    "print(list(range(5)))"
   ]
  },
  {
   "cell_type": "code",
   "execution_count": 84,
   "metadata": {},
   "outputs": [
    {
     "name": "stdout",
     "output_type": "stream",
     "text": [
      "[2, 3, 4]\n"
     ]
    }
   ],
   "source": [
    "print(list(range(2,5)))"
   ]
  },
  {
   "cell_type": "code",
   "execution_count": 85,
   "metadata": {},
   "outputs": [
    {
     "name": "stdout",
     "output_type": "stream",
     "text": [
      "[2, 4, 6, 8, 10, 12, 14]\n"
     ]
    }
   ],
   "source": [
    "print(list(range(2,15,2)))"
   ]
  },
  {
   "cell_type": "markdown",
   "metadata": {},
   "source": [
    "On voit ici que l’objet range créé peut être facilement transformé en liste avec \n",
    "list()."
   ]
  },
  {
   "cell_type": "markdown",
   "metadata": {},
   "source": [
    "Dans une boucle, cela donne :"
   ]
  },
  {
   "cell_type": "code",
   "execution_count": 86,
   "metadata": {},
   "outputs": [
    {
     "name": "stdout",
     "output_type": "stream",
     "text": [
      "0\n",
      "1\n",
      "2\n",
      "3\n",
      "4\n",
      "5\n",
      "6\n",
      "7\n",
      "8\n",
      "9\n",
      "10\n"
     ]
    }
   ],
   "source": [
    "for i in range(11) :\n",
    "    print(i)"
   ]
  },
  {
   "cell_type": "markdown",
   "metadata": {},
   "source": [
    "Les fonctions zip et enumerate sont aussi des fonctions utiles dans les boucles et \n",
    "elles utilisent des listes.\n",
    "La fonction enumerate() renvoie l’indice et l’élément d’une liste. Si nous prenons \n",
    "notre liste de pays utilisée plus tôt :"
   ]
  },
  {
   "cell_type": "code",
   "execution_count": 145,
   "metadata": {},
   "outputs": [
    {
     "name": "stdout",
     "output_type": "stream",
     "text": [
      "0 Senegal\n",
      "1 Mali\n",
      "2 Gambie\n",
      "3 Guinée Bissau\n",
      "4 Guinée Conakry\n"
     ]
    }
   ],
   "source": [
    "liste_pays = [\"Senegal\", \"Mali\", \"Gambie\", \"Guinée Bissau\", \"Guinée Conakry\"]\n",
    "for i, a in enumerate(liste_pays) :\n",
    "    print(i, a)"
   ]
  },
  {
   "cell_type": "markdown",
   "metadata": {},
   "source": [
    "La fonction zip va permettre de coupler de nombreuses listes et d’itérer simultanément sur les éléments de ces listes. Si par exemple, on désire incrémenter simultanément des jours et des météos, on pourra  utiliser :"
   ]
  },
  {
   "cell_type": "code",
   "execution_count": 152,
   "metadata": {},
   "outputs": [
    {
     "name": "stdout",
     "output_type": "stream",
     "text": [
      "Lundi, il fera beau\n",
      "Mardi, il fera mauvais\n"
     ]
    }
   ],
   "source": [
    "for jour, meteo in zip([\"lundi\",\"mardi\"],[\"beau\",\"mauvais\"]) :\n",
    "    print(\"%s, il fera %s\" %(jour.capitalize(), meteo))"
   ]
  },
  {
   "cell_type": "markdown",
   "metadata": {},
   "source": [
    "Dans ce code, on utilise zip() pour prendre une paire de valeurs à chaque itération de la boucle. La seconde partie est une manipulation sur les chaînes de caractères. Si l’une des listes est plus longue que l’autre, la boucle s’arrêtera dès qu’elle  arrivera au bout de l’une d’elles.\n",
    "\n",
    "On pourra coupler enumerate et zip dans un seul code, par exemple :"
   ]
  },
  {
   "cell_type": "code",
   "execution_count": 153,
   "metadata": {},
   "outputs": [
    {
     "name": "stdout",
     "output_type": "stream",
     "text": [
      "0 : Lundi, il fera beau\n",
      "1 : Mardi, il fera mauvais\n"
     ]
    }
   ],
   "source": [
    "for i, (jour, meteo) in enumerate(zip([\"lundi\",\"mardi\"],[\"beau\",\"mauvais\"])) :\n",
    "    print(\"%i : %s, il fera %s\" %(i, jour.capitalize(), meteo))"
   ]
  },
  {
   "cell_type": "markdown",
   "metadata": {},
   "source": [
    "### La boucle while\n",
    "Python vous permet aussi d’utiliser une boucle while() qui est moins utilisée et ressemble beaucoup à la boucle while que l’on peut croiser dans d’autres langages. Pour sortir de cette boucle, on pourra utiliser un break avec une condition. Attention, il faut bien incrémenter l’indice dans la boucle, au risque de se trouver dans un cas  de boucle inﬁnie.\n",
    "\n",
    "On pourra avoir :"
   ]
  },
  {
   "cell_type": "code",
   "execution_count": 90,
   "metadata": {},
   "outputs": [],
   "source": [
    "val_stop  = 50"
   ]
  },
  {
   "cell_type": "code",
   "execution_count": 91,
   "metadata": {},
   "outputs": [
    {
     "name": "stdout",
     "output_type": "stream",
     "text": [
      "51\n"
     ]
    }
   ],
   "source": [
    "i=1\n",
    "while i<100 :\n",
    "    i+=1\n",
    "    if i>val_stop :\n",
    "        break\n",
    "print(i)"
   ]
  },
  {
   "cell_type": "markdown",
   "metadata": {},
   "source": [
    "### Exercices à Faire\n",
    "\n",
    "#### Exercice 1\n",
    "**Ecrivez une programme qui demande à l’utilisateur d’entrer des notes d’élèves. Si l’utilisateur entre une valeur négative, le programme s’arrête. En revanche, pour chaque note saisie, le programme construit progressivement une liste. Après chaque entrée d’une nouvelle note (et donc à chaque itération de la boucle), il affiche le nombre de notes entrées, la note la plus élevée, la note la plus basse, la moyenne de toutes les notes.**\n",
    "\n",
    "**Astuce: Pour créer une liste vide, il suffit de taper la commande liste = [].**\n"
   ]
  },
  {
   "cell_type": "code",
   "execution_count": null,
   "metadata": {},
   "outputs": [],
   "source": []
  },
  {
   "cell_type": "markdown",
   "metadata": {},
   "source": [
    "### LES FONCTIONS"
   ]
  },
  {
   "cell_type": "markdown",
   "metadata": {},
   "source": [
    "Dès que vous allez vous mettre à coder en Python, vous vous rendrez compte très rapidement que l’une des forces du langage est sa capacité d’automatisation. Le plus simple pour cela est de créer des fonctions. Une fonction est un objet qui prend en entrée des arguments et qui effectue des actions. En Python, une fonction se déﬁnit de manière simple : on utilise un mot clé def et le nom de la fonction. Ensuite, il ne reste qu’à entrer les arguments de la fonction et les deux points habituels."
   ]
  },
  {
   "cell_type": "code",
   "execution_count": 154,
   "metadata": {},
   "outputs": [],
   "source": [
    "def ma_fonc(a,b):\n",
    "    print(a+b)"
   ]
  },
  {
   "cell_type": "markdown",
   "metadata": {},
   "source": [
    "Cette fonction afﬁche la somme des deux arguments a et b.\n",
    "Qu’est-ce qu’on remarque dans cet exemple ? \n",
    "Il n’y a pas de déﬁnition de type associé aux arguments (typage). Le contenu de la fonction est toujours basé sur  l’indentation. Cette fonction afﬁche le résultat mais ne renvoie rien.\n",
    "\n",
    "En général, une fonction renvoie une valeur. On utilise pour cela la commande return.\n",
    "Comment appeler une fonction ?"
   ]
  },
  {
   "cell_type": "code",
   "execution_count": 156,
   "metadata": {},
   "outputs": [
    {
     "name": "stdout",
     "output_type": "stream",
     "text": [
      "10\n",
      "10\n",
      "10\n"
     ]
    }
   ],
   "source": [
    "ma_fonc(a=4, b=6)\n",
    "ma_fonc(4,6)\n",
    "ma_fonc(b=6, a=4)"
   ]
  },
  {
   "cell_type": "markdown",
   "metadata": {},
   "source": [
    "Vous noterez qu’il est possible de ne pas indiquer les noms des arguments dans l’appel d’une fonction. Dans cette situation, Python affecte les valeurs aux arguments dans l’ordre où ces derniers ont été déﬁnis au départ dans la fonction."
   ]
  },
  {
   "cell_type": "markdown",
   "metadata": {},
   "source": [
    "### Les arguments d’une fonction"
   ]
  },
  {
   "cell_type": "markdown",
   "metadata": {},
   "source": [
    "+ #### Les arguments facultatifs"
   ]
  },
  {
   "cell_type": "markdown",
   "metadata": {},
   "source": [
    "Il est possible d’avoir des arguments facultatifs dans une fonction. Dans ce but, on devra donner des valeurs par défaut aux arguments facultatifs :"
   ]
  },
  {
   "cell_type": "code",
   "execution_count": 157,
   "metadata": {},
   "outputs": [],
   "source": [
    "def ma_fonc(a, b=6) :\n",
    "    print(a+b)"
   ]
  },
  {
   "cell_type": "code",
   "execution_count": 158,
   "metadata": {},
   "outputs": [
    {
     "name": "stdout",
     "output_type": "stream",
     "text": [
      "7\n"
     ]
    }
   ],
   "source": [
    "ma_fonc(2,5)"
   ]
  },
  {
   "cell_type": "code",
   "execution_count": 159,
   "metadata": {},
   "outputs": [
    {
     "name": "stdout",
     "output_type": "stream",
     "text": [
      "8\n"
     ]
    }
   ],
   "source": [
    "ma_fonc(2)"
   ]
  },
  {
   "cell_type": "markdown",
   "metadata": {},
   "source": [
    "On voit bien que le seul argument obligatoire de notre fonction est a. Le second est facultatif et ne sera pas obligatoire dans l’appel de la fonction. Lorsqu’une fonction compte beaucoup d’arguments, cela évite d’avoir à tous les entrer :"
   ]
  },
  {
   "cell_type": "code",
   "execution_count": 160,
   "metadata": {},
   "outputs": [],
   "source": [
    "def ma_fonc2(a, b=6, c=5, d=10) :\n",
    "    print(a+b+c+d)"
   ]
  },
  {
   "cell_type": "code",
   "execution_count": 161,
   "metadata": {},
   "outputs": [
    {
     "name": "stdout",
     "output_type": "stream",
     "text": [
      "21\n"
     ]
    }
   ],
   "source": [
    "ma_fonc2(2, c=3)"
   ]
  },
  {
   "cell_type": "code",
   "execution_count": 162,
   "metadata": {},
   "outputs": [
    {
     "name": "stdout",
     "output_type": "stream",
     "text": [
      "14\n"
     ]
    }
   ],
   "source": [
    "ma_fonc2(2, d=1)"
   ]
  },
  {
   "cell_type": "markdown",
   "metadata": {},
   "source": [
    "Tous les arguments facultatifs doivent être placés après les arguments obligatoires."
   ]
  },
  {
   "cell_type": "markdown",
   "metadata": {},
   "source": [
    "+ ### Les listes et les dictionnaires d’arguments"
   ]
  },
  {
   "cell_type": "markdown",
   "metadata": {},
   "source": [
    "Notre fonction ma_fonc2 prend 4 valeurs en entrée dont 3 facultatives. Dans les exemples précédents, nous utilisons des valeurs individuelles dans l’appel de la fonction pour chaque paramètre. Si nous voulons utiliser soit une liste, soit un dictionnaire à la place, il y a un moyen simple : * et **."
   ]
  },
  {
   "cell_type": "code",
   "execution_count": 167,
   "metadata": {},
   "outputs": [
    {
     "name": "stdout",
     "output_type": "stream",
     "text": [
      "22\n"
     ]
    }
   ],
   "source": [
    "list_fonc=[3,5,6,8]\n",
    "ma_fonc2(*list_fonc)"
   ]
  },
  {
   "cell_type": "code",
   "execution_count": 102,
   "metadata": {},
   "outputs": [
    {
     "name": "stdout",
     "output_type": "stream",
     "text": [
      "23\n"
     ]
    }
   ],
   "source": [
    "dico_fonc={\"a\":5,\"b\":6,\"c\":7,\"d\":5}\n",
    "ma_fonc2(**dico_fonc)"
   ]
  },
  {
   "cell_type": "markdown",
   "metadata": {},
   "source": [
    "De nombreuses applications de cette approche seront possibles pour paramétrer des fonctions complexes de manière automatique."
   ]
  },
  {
   "cell_type": "markdown",
   "metadata": {},
   "source": [
    "+ ### Les arguments multiples (args, kwargs)"
   ]
  },
  {
   "cell_type": "markdown",
   "metadata": {},
   "source": [
    "On veut parfois gérer plus d’arguments dans un appel de fonctions que ceux déﬁnis directement. Pour cela, on va ajouter les paramètres *args et **kwargs. Il s’agit en fait  d’un tuple de paramètres obligatoires pour args, dont on ne connaît pas la taille, et d’un dictionnaire de paramètres pour kwargs, dont on ne connaît pas la taille non plus. Les arguments de la fonction sont donc rassemblés dans un tuple ou dans un dictionnaire."
   ]
  },
  {
   "cell_type": "code",
   "execution_count": 168,
   "metadata": {},
   "outputs": [],
   "source": [
    "def ma_fonc3(param_obligatoire,*args,**kwargs) :\n",
    "    print(\"Argument obligatoire :\", param_obligatoire)\n",
    "     # si on a des arguments positionnés après les arguments obligatoires\n",
    "    # on les affiche\n",
    "    if args :\n",
    "        for val in args :\n",
    "            print(\"Argument dans args : \", val)\n",
    "    # si on a des arguments du type arg1 =… situé après les arguments\n",
    "    # obligatoires, on les affiche\n",
    "    if kwargs :\n",
    "        for key, val in kwargs.items() :\n",
    "            print(\"Nom de l’argument et valeur dans kwargs\", key, val, sep=\": \")"
   ]
  },
  {
   "cell_type": "markdown",
   "metadata": {},
   "source": [
    "Lorsqu’on va appeler cette fonction, nous obtenons :"
   ]
  },
  {
   "cell_type": "code",
   "execution_count": 170,
   "metadata": {},
   "outputs": [
    {
     "name": "stdout",
     "output_type": "stream",
     "text": [
      "Argument obligatoire : DATA\n",
      "Argument dans args :  Science\n",
      "Argument dans args :  Python\n",
      "Nom de l’argument et valeur dans kwargs: option: mon_option\n",
      "Nom de l’argument et valeur dans kwargs: x: text\n"
     ]
    }
   ],
   "source": [
    "ma_fonc3(\"DATA\",\"Science\",\"Python\", option=\"mon_option\")"
   ]
  },
  {
   "cell_type": "code",
   "execution_count": 106,
   "metadata": {},
   "outputs": [
    {
     "name": "stdout",
     "output_type": "stream",
     "text": [
      "Argument obligatoire : DATA\n",
      "Nom de l’argument et valeur dans kwargs: autre_option: mon_option\n"
     ]
    }
   ],
   "source": [
    "ma_fonc3(\"DATA\", autre_option=\"mon_option\")"
   ]
  },
  {
   "cell_type": "markdown",
   "metadata": {},
   "source": [
    "Dans ce code, on a combiné les différentes options. On utilise souvent ce type  d’arguments lorsqu’on appelle des fonctions imbriquées de manière à éviter d’avoir à  nommer tous les paramètres de toutes les fonctions appelées. Bien entendu, c’est à l’utilisateur de bien nommer les paramètres dans la partie kwargs."
   ]
  },
  {
   "cell_type": "markdown",
   "metadata": {},
   "source": [
    "### Les docstrings"
   ]
  },
  {
   "cell_type": "markdown",
   "metadata": {},
   "source": [
    "Il s’agit d’un type de commentaires spéciﬁques qui s’appliquent aussi bien à une fonction qu’à une classe ou à un module et permettant d’expliquer l’utilisation de celui-ci. Un docstring est déﬁni par \"\"\" et sera constitué d’une ou plusieurs lignes permettant d’expliquer les fonctionnalités et les paramètres d’une fonction. Un certain  nombre de règles sur les docstrings sont déﬁnis par la Python Software Foundation dans le PEP257"
   ]
  },
  {
   "cell_type": "code",
   "execution_count": 107,
   "metadata": {},
   "outputs": [],
   "source": [
    "def ma_fonction(*args):\n",
    "    \"\"\"Cette fonction calcule la somme des paramètres\"\"\"\n",
    "    if args:\n",
    "        return sum(args)\n",
    "    else:\n",
    "        return None"
   ]
  },
  {
   "cell_type": "markdown",
   "metadata": {},
   "source": [
    "Un docstring peut être afﬁché très facilement sans avoir à aller dans le code de la fonction, on peut faire :"
   ]
  },
  {
   "cell_type": "code",
   "execution_count": 108,
   "metadata": {},
   "outputs": [
    {
     "name": "stdout",
     "output_type": "stream",
     "text": [
      "Help on function ma_fonction in module __main__:\n",
      "\n",
      "ma_fonction(*args)\n",
      "    Cette fonction calcule la somme des paramètres\n",
      "\n"
     ]
    }
   ],
   "source": [
    "help(ma_fonction)"
   ]
  },
  {
   "cell_type": "code",
   "execution_count": 109,
   "metadata": {},
   "outputs": [],
   "source": [
    "?ma_fonction"
   ]
  },
  {
   "cell_type": "markdown",
   "metadata": {},
   "source": [
    "On a donc créé un docstring sur notre fonction et on peut l’appeler en utilisant  help() ou .__ doc__ en Python et en utilisant ? et le raccourci clavier SHIFT+TAB  dans votre notebook Jupyter."
   ]
  },
  {
   "cell_type": "markdown",
   "metadata": {},
   "source": [
    "### Les retours multiples"
   ]
  },
  {
   "cell_type": "markdown",
   "metadata": {},
   "source": [
    "Lorsqu’on veut qu’une fonction renvoie plus qu’un seul objet, il sufﬁt de faire un appel return avec plusieurs objets séparés par des virgules. Lorsqu’on appelle cette fonction, elle renvoie plusieurs objets qui peuvent être alloués à plusieurs variables ou stockés dans un tuple."
   ]
  },
  {
   "cell_type": "code",
   "execution_count": 171,
   "metadata": {},
   "outputs": [],
   "source": [
    "def ma_fonc(a, b) :\n",
    "    return a+b, a-b"
   ]
  },
  {
   "cell_type": "code",
   "execution_count": 172,
   "metadata": {},
   "outputs": [
    {
     "name": "stdout",
     "output_type": "stream",
     "text": [
      "(7, -3)\n"
     ]
    }
   ],
   "source": [
    "tu1=ma_fonc(2,5)\n",
    "print(tu1)"
   ]
  },
  {
   "cell_type": "code",
   "execution_count": 173,
   "metadata": {},
   "outputs": [
    {
     "name": "stdout",
     "output_type": "stream",
     "text": [
      "7 -3\n"
     ]
    }
   ],
   "source": [
    "val1, val2=ma_fonc(2,5)\n",
    "print(val1, val2)"
   ]
  },
  {
   "cell_type": "markdown",
   "metadata": {},
   "source": [
    "Cette fonctionnalité sera utile lorsqu’on désire extraire plusieurs paramètres d’un  modèle de machine learning."
   ]
  },
  {
   "cell_type": "markdown",
   "metadata": {},
   "source": [
    "### Les fonctions lambda"
   ]
  },
  {
   "cell_type": "markdown",
   "metadata": {},
   "source": [
    "Il s’agit de ce qu’on appelle des fonctions anonymes. Ceci veut dire que l’on ne  donnera pas de nom à notre fonction et qu’on va la créer à la volée. Ces fonctions  pourront être très utiles dans la transformation de données en data science. Pour déﬁnir une fonction lambda, on utilise le mot clé lambda. Une fonction lambda  doit pouvoir s’écrire en une seule ligne et reﬂéter une seule action.\n",
    "\n",
    "Par exemple, si on désire une fonction qui met en majuscules des mots et les \n",
    "sépare dans une liste, on pourra utiliser :"
   ]
  },
  {
   "cell_type": "code",
   "execution_count": 174,
   "metadata": {},
   "outputs": [],
   "source": [
    "ma_chaine=\"Python pour le data scientist\""
   ]
  },
  {
   "cell_type": "code",
   "execution_count": 176,
   "metadata": {},
   "outputs": [
    {
     "data": {
      "text/plain": [
       "['PYTHON', 'POUR', 'LE', 'DATA', 'SCIENTIST']"
      ]
     },
     "execution_count": 176,
     "metadata": {},
     "output_type": "execute_result"
    }
   ],
   "source": [
    "(lambda chaine : chaine.upper().split())(ma_chaine)"
   ]
  },
  {
   "cell_type": "markdown",
   "metadata": {},
   "source": [
    "On applique donc les méthodes upper() et split() sur la chaîne de caractères. Nous utiliserons par exemple des fonctions lambda sur des listes :"
   ]
  },
  {
   "cell_type": "code",
   "execution_count": 177,
   "metadata": {},
   "outputs": [
    {
     "name": "stdout",
     "output_type": "stream",
     "text": [
      "[6, 8, 12]\n"
     ]
    }
   ],
   "source": [
    "ma_liste = [1, 6, 8, 3, 12]\n",
    "nouvelle_liste = list(filter(lambda x: (x >= 6), ma_liste))\n",
    "print(nouvelle_liste)"
   ]
  },
  {
   "cell_type": "markdown",
   "metadata": {},
   "source": [
    "## LES PACKAGES ET LES MODULES"
   ]
  },
  {
   "cell_type": "markdown",
   "metadata": {},
   "source": [
    "### Un peu de vocabulaire"
   ]
  },
  {
   "cell_type": "markdown",
   "metadata": {},
   "source": [
    "En Python, il existe deux types de structures pour organiser votre code : les modules et les packages. Pour faire simple, les modules sont des ﬁchiers .py dans lesquels des fonctions  et des classes sont stockées. Les packages sont des répertoires structurés dans  lesquels de nombreux modules sont stockés."
   ]
  },
  {
   "cell_type": "markdown",
   "metadata": {},
   "source": [
    "### Installer un package"
   ]
  },
  {
   "cell_type": "markdown",
   "metadata": {},
   "source": [
    "Comme on a pu le voir plus tôt, Python s’appuie sur de nombreux packages, ceux-ci peuvent être basés sur vos développements mais bien souvent ils ont été développés par la communauté et partagés sur le PyPi (Python Repository). Le code source de ces packages est en général stocké et partagé dans GitHub (www.github.com).\n",
    "Pour récupérer un package, il faut le télécharger et le compiler si nécessaire. Le processus est le suivant :\n",
    "\n",
    "+ Si vous utilisez Anaconda, lancez l’invite de commande et, si le package se trouve sur le répertoire d’Anaconda en ligne (certains packages sont hébergés dans le répertoire Anaconda en ligne mais ne sont pas inclus dans la version que vous  avez installée sur votre machine), utilisez :\n"
   ]
  },
  {
   "cell_type": "code",
   "execution_count": null,
   "metadata": {},
   "outputs": [],
   "source": [
    "conda install numpy"
   ]
  },
  {
   "cell_type": "markdown",
   "metadata": {},
   "source": [
    "+ Si vous n’utilisez pas Anaconda ou si le package ne se trouve pas sur le répertoire  d’Anaconda, utilisez la commande :"
   ]
  },
  {
   "cell_type": "code",
   "execution_count": null,
   "metadata": {},
   "outputs": [],
   "source": [
    "pip install numpy"
   ]
  },
  {
   "cell_type": "markdown",
   "metadata": {},
   "source": [
    "Il sufﬁt d’installer un package une seule fois dans un environnement."
   ]
  },
  {
   "cell_type": "code",
   "execution_count": null,
   "metadata": {},
   "outputs": [],
   "source": []
  },
  {
   "cell_type": "markdown",
   "metadata": {},
   "source": [
    "### Charger un package ou un module dans votre code"
   ]
  },
  {
   "cell_type": "markdown",
   "metadata": {},
   "source": [
    "Lorsque vous voulez utiliser les fonctions et les classes d’un package, il vous faudra charger le lien vers le package en mémoire. Cela se fait de manière très simple grâce  à un mot clé Python import.\n",
    "\n",
    "Ainsi, pour charger un package, on utilisera :"
   ]
  },
  {
   "cell_type": "code",
   "execution_count": 179,
   "metadata": {},
   "outputs": [],
   "source": [
    "import datetime"
   ]
  },
  {
   "cell_type": "markdown",
   "metadata": {},
   "source": [
    "Et on pourra se servir des éléments du package datetime, par exemple pour afﬁcher la date du jour :"
   ]
  },
  {
   "cell_type": "code",
   "execution_count": 180,
   "metadata": {},
   "outputs": [
    {
     "name": "stdout",
     "output_type": "stream",
     "text": [
      "2021-03-26\n"
     ]
    }
   ],
   "source": [
    "print(datetime.date.today())"
   ]
  },
  {
   "cell_type": "markdown",
   "metadata": {},
   "source": [
    "On préfère utiliser une version plus courte du nom du package pour cela :"
   ]
  },
  {
   "cell_type": "code",
   "execution_count": 181,
   "metadata": {},
   "outputs": [],
   "source": [
    "import numpy as np"
   ]
  },
  {
   "cell_type": "markdown",
   "metadata": {},
   "source": [
    "Dans ce cas, si on veut générer un nombre aléatoire à partir d’une fonction du package NumPy, on doit écrire :"
   ]
  },
  {
   "cell_type": "code",
   "execution_count": 185,
   "metadata": {},
   "outputs": [
    {
     "name": "stdout",
     "output_type": "stream",
     "text": [
      "[0.82844804]\n"
     ]
    }
   ],
   "source": [
    "print(np.random.random(1))"
   ]
  },
  {
   "cell_type": "markdown",
   "metadata": {},
   "source": [
    "Il s’agit de la version qu’il faut privilégier. Il existe aussi une méthode pour importer les éléments d’un  package sans avoir à utiliser de préﬁxe, on utilise dans ce cas from pandas import *. Il faut éviter cette  approche qui comporte de nombreux risques d’écrasement lorsque plusieurs  packages sont chargés. Si on veut utiliser une fonction ou une classe d’un package  sans préﬁxe, on utilise cette syntaxe :"
   ]
  },
  {
   "cell_type": "code",
   "execution_count": 186,
   "metadata": {},
   "outputs": [],
   "source": [
    "from pandas import DataFrame"
   ]
  },
  {
   "cell_type": "markdown",
   "metadata": {},
   "source": [
    "Ainsi il sufﬁt d’utiliser la classe DataFrame sans préﬁxe, mais on a peu de chance d’écrasement dans ce cas."
   ]
  },
  {
   "cell_type": "markdown",
   "metadata": {},
   "source": [
    "### Créer son propre module/package"
   ]
  },
  {
   "cell_type": "markdown",
   "metadata": {},
   "source": [
    "Dès que vous commencerez à avoir une certaine quantité de code, vous allez vous rendre compte de la nécessité de le stocker aﬁn de le réutiliser. Pour cela, il vous faut un système de versioning (public pour l’open source ou privé) comme Git par exemple. Il ne s’agit pas d’une obligation mais d’une bonne pratique.\n",
    "\n",
    "+ **Créer un module**\n",
    "\n",
    "Créer un module est extrêmement simple, il vous sufﬁt de créer un ﬁchier .py dans \n",
    "lequel vous allez stocker vos fonctions et vos classes. Il vous faudra ensuite placer \n",
    "votre ﬁchier dans un répertoire qui se trouve dans le PYTHONPATH. Pour identiﬁer \n",
    "celui-ci, on utilisera la commande :"
   ]
  },
  {
   "cell_type": "code",
   "execution_count": 125,
   "metadata": {},
   "outputs": [
    {
     "data": {
      "text/plain": [
       "['/home/siri/pythonDS2021',\n",
       " '/home/siri/anaconda3/lib/python37.zip',\n",
       " '/home/siri/anaconda3/lib/python3.7',\n",
       " '/home/siri/anaconda3/lib/python3.7/lib-dynload',\n",
       " '',\n",
       " '/home/siri/anaconda3/lib/python3.7/site-packages',\n",
       " '/home/siri/anaconda3/lib/python3.7/site-packages/IPython/extensions',\n",
       " '/home/siri/.ipython']"
      ]
     },
     "execution_count": 125,
     "metadata": {},
     "output_type": "execute_result"
    }
   ],
   "source": [
    "import sys\n",
    "sys.path"
   ]
  },
  {
   "cell_type": "markdown",
   "metadata": {},
   "source": [
    "Une fois que le ﬁchier est au bon endroit, il vous sufﬁt d’utiliser dans votre code :"
   ]
  },
  {
   "cell_type": "markdown",
   "metadata": {},
   "source": [
    "**import mon_module**\n",
    "\n",
    "**mon_module.ma_fonction()**"
   ]
  },
  {
   "cell_type": "markdown",
   "metadata": {},
   "source": [
    "Vous pouvez maintenant utiliser vos classes et fonctions."
   ]
  },
  {
   "cell_type": "markdown",
   "metadata": {},
   "source": [
    "+ **Créer un package**\n",
    "\n",
    "Il peut arriver que votre module commence à devenir trop condensé ou que vous désiriez le publier dans le PyPi ou sur GitHub. Il faut alors passer à la notion de  package. Il s’agit ici d’un ensemble structuré de ﬁchiers .py rassemblés dans un répertoire. Pour déﬁnir un package, il faut lui ajouter un ﬁchier nommé __ init__.py  (avec deux underscores de chaque côté). Ce ﬁchier __ init__.py doit être placé à la racine de votre répertoire. Il permet d’initialiser votre package, ceci veut dire que lorsque vous chargez votre package dans votre  code, Python lance le code qui se trouve dans le ﬁchier. On peut très bien laisser ce  ﬁchier vide si vous ne désirez pas lancer du code en amont. On pourra aussi ajouter  des vériﬁcations de dépendances à d’autres packages ou charger quelques classes. Une fois le ﬁchier d’initialisation créé, on peut structurer son package avec des  modules, des sous-répertoires (s’il s’agit de sous-modules, on créera un ﬁchier  d’initialisation).\n",
    "\n",
    "Si votre ﬁchier __ init__.py est vide et que votre package est structuré de cette \n",
    "façon :"
   ]
  },
  {
   "cell_type": "markdown",
   "metadata": {},
   "source": [
    "**mon_package**\n",
    "\n",
    "       |- __init__.py\n",
    "       \n",
    "       |- mon_code.py"
   ]
  },
  {
   "cell_type": "markdown",
   "metadata": {},
   "source": [
    "Pour lancer ma_fonction qui se trouve dans le ﬁchier mon_code.py, on utilise :"
   ]
  },
  {
   "cell_type": "markdown",
   "metadata": {},
   "source": [
    "**import mon_package.mon_code**\n",
    "\n",
    "**mon_package.mon_code.ma_fonction()**"
   ]
  },
  {
   "cell_type": "markdown",
   "metadata": {},
   "source": [
    "Ceci nous permet d’avoir une approche simple mais il faut bien noter que l’import est un peu lourd dans ce cas. On peut ajouter un pré-chargement des ﬁchiers se trouvant dans le répertoire directement dans le ﬁchier __ init__.py. Pour cela, il vous sufﬁt d’ajouter dans le ﬁchier d’initialisation le code suivant :"
   ]
  },
  {
   "cell_type": "markdown",
   "metadata": {},
   "source": [
    "**from mon_package.mon_code import ***"
   ]
  },
  {
   "cell_type": "markdown",
   "metadata": {},
   "source": [
    "Une fois cette ligne ajoutée, vous aurez dans votre code :"
   ]
  },
  {
   "cell_type": "markdown",
   "metadata": {},
   "source": [
    "**import mon_package**\n",
    "\n",
    "**mon_package.ma_fonction()**"
   ]
  },
  {
   "cell_type": "markdown",
   "metadata": {},
   "source": [
    "Si vous n’êtes pas à l’aise avec le code import *, vous pouvez faire les imports séparément pour toutes les fonctions et classes de vos ﬁchiers.\n",
    "\n",
    "Il ne vous reste plus qu’à bien commenter votre code, ajouter des docstrings de  qualité, et publier votre travail pour contribuer à l’amélioration de l’environnement Python."
   ]
  },
  {
   "cell_type": "code",
   "execution_count": null,
   "metadata": {},
   "outputs": [],
   "source": []
  }
 ],
 "metadata": {
  "kernelspec": {
   "display_name": "Python 3",
   "language": "python",
   "name": "python3"
  },
  "language_info": {
   "codemirror_mode": {
    "name": "ipython",
    "version": 3
   },
   "file_extension": ".py",
   "mimetype": "text/x-python",
   "name": "python",
   "nbconvert_exporter": "python",
   "pygments_lexer": "ipython3",
   "version": "3.7.9"
  }
 },
 "nbformat": 4,
 "nbformat_minor": 4
}
