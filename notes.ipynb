{
 "cells": [
  {
   "cell_type": "code",
   "execution_count": null,
   "metadata": {},
   "outputs": [
    {
     "name": "stdout",
     "output_type": "stream",
     "text": [
      "Saisir une note ou -1 pour quitter: 1\n",
      "Le nombre de note entré:  1\n",
      "La note la plus elevée est:  1.0\n",
      "La note la plus basse est:  1.0\n",
      "La moyenne de toute les notes est  1.0\n",
      "Saisir une note ou -1 pour quitter: 9\n",
      "Le nombre de note entré:  2\n",
      "La note la plus elevée est:  9.0\n",
      "La note la plus basse est:  1.0\n",
      "La moyenne de toute les notes est  5.0\n",
      "Saisir une note ou -1 pour quitter: 9\n",
      "Le nombre de note entré:  3\n",
      "La note la plus elevée est:  9.0\n",
      "La note la plus basse est:  1.0\n",
      "La moyenne de toute les notes est  6.333333333333333\n",
      "Saisir une note ou -1 pour quitter: 15\n",
      "Le nombre de note entré:  4\n",
      "La note la plus elevée est:  15.0\n",
      "La note la plus basse est:  1.0\n",
      "La moyenne de toute les notes est  8.5\n"
     ]
    }
   ],
   "source": [
    "liste = []\n",
    "while True:\n",
    "    note = float(input(\"Saisir une note ou -1 pour quitter: \"))\n",
    "    if note==-1: break\n",
    "    liste.append(note)\n",
    "    print (\"Le nombre de note entré: \",len(liste))\n",
    "    print (\"La note la plus elevée est: \",max(liste))\n",
    "    print (\"La note la plus basse est: \",min(liste))\n",
    "    print(\"La moyenne de toute les notes est \", sum(liste)/float(len(liste)))"
   ]
  },
  {
   "cell_type": "code",
   "execution_count": null,
   "metadata": {},
   "outputs": [],
   "source": []
  },
  {
   "cell_type": "code",
   "execution_count": null,
   "metadata": {},
   "outputs": [],
   "source": []
  }
 ],
 "metadata": {
  "kernelspec": {
   "display_name": "Python 3",
   "language": "python",
   "name": "python3"
  },
  "language_info": {
   "codemirror_mode": {
    "name": "ipython",
    "version": 3
   },
   "file_extension": ".py",
   "mimetype": "text/x-python",
   "name": "python",
   "nbconvert_exporter": "python",
   "pygments_lexer": "ipython3",
   "version": "3.8.5"
  }
 },
 "nbformat": 4,
 "nbformat_minor": 4
}
