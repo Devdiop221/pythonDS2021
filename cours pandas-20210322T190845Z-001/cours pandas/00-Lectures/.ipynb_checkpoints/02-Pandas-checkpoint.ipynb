{
 "cells": [
  {
   "cell_type": "markdown",
   "metadata": {
    "slideshow": {
     "slide_type": "subslide"
    }
   },
   "source": [
    "# III - Data Analysis\n",
    "\n",
    "## III.2. Pandas 🐼"
   ]
  },
  {
   "cell_type": "markdown",
   "metadata": {
    "slideshow": {
     "slide_type": "subslide"
    }
   },
   "source": [
    "---"
   ]
  },
  {
   "cell_type": "markdown",
   "metadata": {},
   "source": [
    "![](images/red-panda.jpg)"
   ]
  },
  {
   "cell_type": "markdown",
   "metadata": {
    "slideshow": {
     "slide_type": "fragment"
    }
   },
   "source": [
    "> Pandas is a **Python library** made for **data manipulation and analysis**. Even though it's quite a young library, it has been proven to be very useful for any data scientist!"
   ]
  },
  {
   "cell_type": "markdown",
   "metadata": {},
   "source": [
    "![](images/pandas_logo.png)"
   ]
  },
  {
   "cell_type": "markdown",
   "metadata": {
    "slideshow": {
     "slide_type": "slide"
    }
   },
   "source": [
    "> 📚 **Resources**: This *cheatsheet* might come handy for remembering essential methods: [Pandas Cheatsheet](https://pandas.pydata.org/Pandas_Cheat_Sheet.pdf)"
   ]
  },
  {
   "cell_type": "markdown",
   "metadata": {
    "slideshow": {
     "slide_type": "subslide"
    }
   },
   "source": [
    "---"
   ]
  },
  {
   "cell_type": "markdown",
   "metadata": {
    "slideshow": {
     "slide_type": "slide"
    }
   },
   "source": [
    "# I. Introduction to Pandas"
   ]
  },
  {
   "cell_type": "markdown",
   "metadata": {
    "slideshow": {
     "slide_type": "subslide"
    }
   },
   "source": [
    "## I.1. DataFrames"
   ]
  },
  {
   "cell_type": "markdown",
   "metadata": {
    "slideshow": {
     "slide_type": "fragment"
    }
   },
   "source": [
    "Let's first import the library. By convention we use the alias `pd` that appears handy when calling the library."
   ]
  },
  {
   "cell_type": "code",
   "execution_count": null,
   "metadata": {
    "slideshow": {
     "slide_type": "fragment"
    }
   },
   "outputs": [],
   "source": [
    "import pandas as pd"
   ]
  },
  {
   "cell_type": "markdown",
   "metadata": {
    "slideshow": {
     "slide_type": "subslide"
    }
   },
   "source": [
    "The main object, unveiling the strength of Pandas are `DataFrames`.\n",
    "\n",
    "It is a tabular-like structure made of rows and columns.\n",
    "\n",
    "We can create DataFrame manually or we can load existing data (in .csv files for example) directly into it."
   ]
  },
  {
   "cell_type": "code",
   "execution_count": null,
   "metadata": {
    "slideshow": {
     "slide_type": "fragment"
    }
   },
   "outputs": [],
   "source": [
    "# We can create a DataFrame manually\n",
    "df = pd.DataFrame({\"name\": [\"Einstein\", \"Turing\", \"Nash\"],\n",
    "                   \"birth_year\": [1879, 1912, 1928]})\n",
    "df"
   ]
  },
  {
   "cell_type": "code",
   "execution_count": null,
   "metadata": {
    "slideshow": {
     "slide_type": "fragment"
    }
   },
   "outputs": [],
   "source": [
    "# We can create a DataFrame by loading the directly directly from a .csv file for example\n",
    "df = pd.read_csv('input/imdb_1000.csv')"
   ]
  },
  {
   "cell_type": "markdown",
   "metadata": {},
   "source": [
    "Once the data is loaded, you can do visualize/manipulate it quite easiliy, and Pandas contains multiple powerful methods for this new object. \n",
    "\n",
    "You can check the content of the `n` first lines:"
   ]
  },
  {
   "cell_type": "code",
   "execution_count": null,
   "metadata": {
    "scrolled": true,
    "slideshow": {
     "slide_type": "subslide"
    }
   },
   "outputs": [],
   "source": [
    "# Now you can have a peak view at the first rows\n",
    "df.head()"
   ]
  },
  {
   "cell_type": "markdown",
   "metadata": {},
   "source": [
    "Or display the `n` last lines:"
   ]
  },
  {
   "cell_type": "code",
   "execution_count": null,
   "metadata": {},
   "outputs": [],
   "source": [
    "df.tail(n=8)"
   ]
  },
  {
   "cell_type": "markdown",
   "metadata": {},
   "source": [
    "As you can see, the DataFrame is an object more \"enriched\" than raw Numpy arrays. It is therefore both more powerful but also more expensive (in size and computing power).\n",
    "\n",
    "A DataFrame contains indeed more information (metadata) than just the raw data:\n",
    "- it references the **columns names**\n",
    "- it references the table **index** (or several if you work with \"multi-indexes\"), in bold on the left. It corresponds to the index of the line\n",
    "- it references null (N/A or empty) values\n",
    "\n",
    "By default, when creating a new DataFrame, Pandas instanciates a new incremental index but you could also specify your custom index."
   ]
  },
  {
   "cell_type": "code",
   "execution_count": null,
   "metadata": {
    "scrolled": true,
    "slideshow": {
     "slide_type": "subslide"
    }
   },
   "outputs": [],
   "source": [
    "# METHOD 1: Reading csv and indicating index column\n",
    "df = pd.read_csv('input/imdb_1000.csv', index_col=\"title\")\n",
    "\n",
    "# METHOD 2: Reading csv then setting index manually\n",
    "#df = pd.read_csv('input/imdb_1000.csv')\n",
    "#df = df.set_index(\"title\")\n",
    "\n",
    "df.head()"
   ]
  },
  {
   "cell_type": "code",
   "execution_count": null,
   "metadata": {},
   "outputs": [],
   "source": [
    "# METHOD 2: Reading csv then setting index manually\n",
    "df = pd.read_csv('input/imdb_1000.csv')\n",
    "df = df.set_index(\"title\")\n",
    "\n",
    "df.head()"
   ]
  },
  {
   "cell_type": "code",
   "execution_count": null,
   "metadata": {},
   "outputs": [],
   "source": []
  },
  {
   "cell_type": "markdown",
   "metadata": {},
   "source": [
    "Again, DataFrames class contain many useful methods and attributes to retrieve information about the data (metadata):"
   ]
  },
  {
   "cell_type": "code",
   "execution_count": null,
   "metadata": {
    "scrolled": false,
    "slideshow": {
     "slide_type": "subslide"
    }
   },
   "outputs": [],
   "source": [
    "# `shape` attribute to retrieve (n_rows, n_columns)\n",
    "df.shape"
   ]
  },
  {
   "cell_type": "code",
   "execution_count": null,
   "metadata": {
    "scrolled": false,
    "slideshow": {
     "slide_type": "subslide"
    }
   },
   "outputs": [],
   "source": [
    "# `info` method to retrieve a summary of the columns metadata\n",
    "# (non-null objects, column name, dtype, etc.)\n",
    "df.info()"
   ]
  },
  {
   "cell_type": "markdown",
   "metadata": {},
   "source": [
    "We can also retrieve the columns names and the rows index:"
   ]
  },
  {
   "cell_type": "code",
   "execution_count": null,
   "metadata": {
    "scrolled": true,
    "slideshow": {
     "slide_type": "subslide"
    }
   },
   "outputs": [],
   "source": [
    "# `columns` attribute\n",
    "df.columns"
   ]
  },
  {
   "cell_type": "code",
   "execution_count": null,
   "metadata": {
    "scrolled": true,
    "slideshow": {
     "slide_type": "fragment"
    }
   },
   "outputs": [],
   "source": [
    "# `index` attribute\n",
    "df.index"
   ]
  },
  {
   "cell_type": "markdown",
   "metadata": {},
   "source": [
    "## I.2. Data statistics"
   ]
  },
  {
   "cell_type": "markdown",
   "metadata": {},
   "source": [
    "We can quickly retrieve data statistics with `describe` method"
   ]
  },
  {
   "cell_type": "code",
   "execution_count": null,
   "metadata": {
    "scrolled": true,
    "slideshow": {
     "slide_type": "subslide"
    }
   },
   "outputs": [],
   "source": [
    "# `describe` method allows you to retrieve statistics per column\n",
    "# (only for columns with numerical values)\n",
    "df.describe()"
   ]
  },
  {
   "cell_type": "markdown",
   "metadata": {},
   "source": [
    "We could also retrieve any of those values manually."
   ]
  },
  {
   "cell_type": "code",
   "execution_count": null,
   "metadata": {},
   "outputs": [],
   "source": [
    "# Mean value\n",
    "print('Mean duration:', df['duration'].mean())\n",
    "# Min and Max values\n",
    "print('Min and Max star_rating:', df['star_rating'].min(), df['star_rating'].max())"
   ]
  },
  {
   "cell_type": "markdown",
   "metadata": {},
   "source": [
    "We can also:\n",
    "- get the number of unique values of a column using `nunique`\n",
    "- get the list of those unique values using `unique`\n",
    "- get the number of rows per value using `value_counts`\n",
    "\n",
    "> 🔦 **Hint**: This will be particularly useful for **categorical variables**!"
   ]
  },
  {
   "cell_type": "code",
   "execution_count": null,
   "metadata": {},
   "outputs": [],
   "source": [
    "# The number of unique values in a column\n",
    "df['genre'].nunique()"
   ]
  },
  {
   "cell_type": "code",
   "execution_count": null,
   "metadata": {},
   "outputs": [],
   "source": [
    "# The unique values of a column\n",
    "df['genre'].unique()"
   ]
  },
  {
   "cell_type": "code",
   "execution_count": null,
   "metadata": {},
   "outputs": [],
   "source": [
    "# The number of rows for each value is the following\n",
    "df['genre'].value_counts()"
   ]
  },
  {
   "cell_type": "markdown",
   "metadata": {
    "slideshow": {
     "slide_type": "subslide"
    }
   },
   "source": [
    "---"
   ]
  },
  {
   "cell_type": "markdown",
   "metadata": {
    "slideshow": {
     "slide_type": "slide"
    }
   },
   "source": [
    "# II. DataFrame manipulation"
   ]
  },
  {
   "cell_type": "markdown",
   "metadata": {
    "slideshow": {
     "slide_type": "subslide"
    }
   },
   "source": [
    "## II.1. One column: Series"
   ]
  },
  {
   "cell_type": "markdown",
   "metadata": {},
   "source": [
    "If we want to retrieve one column, we can specify it into brackets.\n",
    "\n",
    "> ⚠️ **Warning**: Given a DataFrame `df` and a column named `col`, you can access this column using `df[col]` but also using the syntax `df.col`. However this new notation does not work:\n",
    "- when you create a new column (while the first one does)\n",
    "- when the name of the column contains spaces"
   ]
  },
  {
   "cell_type": "code",
   "execution_count": null,
   "metadata": {
    "scrolled": true
   },
   "outputs": [],
   "source": [
    "df['content_rating']"
   ]
  },
  {
   "cell_type": "markdown",
   "metadata": {},
   "source": [
    "What is the type of this column?"
   ]
  },
  {
   "cell_type": "code",
   "execution_count": null,
   "metadata": {
    "slideshow": {
     "slide_type": "subslide"
    }
   },
   "outputs": [],
   "source": [
    "type(df['content_rating'])"
   ]
  },
  {
   "cell_type": "markdown",
   "metadata": {},
   "source": [
    "Interesting. So in summary in Pandas' world:\n",
    "- a table is a **Pandas DataFrame**\n",
    "- a column of a DataFrame is a **Pandas Series**.\n",
    "\n",
    "Again, a Pandas Series contains additional information (than just raw data) such as row Index.\n",
    "\n",
    "You can therefore retrieve:\n",
    "- the raw data using `values` attribute.. back to a good old NumPy array 🙂\n",
    "- the row index using `index` attribute"
   ]
  },
  {
   "cell_type": "code",
   "execution_count": null,
   "metadata": {
    "code_folding": [],
    "scrolled": true,
    "slideshow": {
     "slide_type": "fragment"
    }
   },
   "outputs": [],
   "source": [
    "df['content_rating'].values"
   ]
  },
  {
   "cell_type": "markdown",
   "metadata": {},
   "source": [
    "Let's check the type to be sure:"
   ]
  },
  {
   "cell_type": "code",
   "execution_count": null,
   "metadata": {
    "slideshow": {
     "slide_type": "fragment"
    }
   },
   "outputs": [],
   "source": [
    "print(type(df['content_rating'].values))"
   ]
  },
  {
   "cell_type": "markdown",
   "metadata": {
    "slideshow": {
     "slide_type": "subslide"
    }
   },
   "source": [
    "## II.2. Two or more columns: DataFrame"
   ]
  },
  {
   "cell_type": "markdown",
   "metadata": {},
   "source": [
    "Now what if we want to collect multiple columns at the same time?"
   ]
  },
  {
   "cell_type": "code",
   "execution_count": null,
   "metadata": {
    "code_folding": [],
    "scrolled": true,
    "slideshow": {
     "slide_type": "subslide"
    }
   },
   "outputs": [],
   "source": [
    "# The syntax is slightly different this time: two brackets needed: we select a list of columns\n",
    "df[[\"duration\", \"genre\"]]"
   ]
  },
  {
   "cell_type": "markdown",
   "metadata": {},
   "source": [
    "Therefore, selecting multiple columns from a DataFrame gives back a DataFrame (it is simply the DataFrame with less numbers of columns than originally) "
   ]
  },
  {
   "cell_type": "markdown",
   "metadata": {
    "slideshow": {
     "slide_type": "subslide"
    }
   },
   "source": [
    "## II.3. Selecting data"
   ]
  },
  {
   "cell_type": "markdown",
   "metadata": {},
   "source": [
    "We just explained how to select a subset of one or more columns from a DataFrame.\n",
    "\n",
    "What if we want to select specific rows also? Let's explore the different methods and tools to **select** specific data.\n",
    "\n",
    "There are two main ways for doing it: by using **indices** with `iloc` or by using **keys** with `loc`."
   ]
  },
  {
   "cell_type": "markdown",
   "metadata": {
    "slideshow": {
     "slide_type": "subslide"
    }
   },
   "source": [
    "### II.3.A. `iloc`"
   ]
  },
  {
   "cell_type": "markdown",
   "metadata": {},
   "source": [
    "Since a DataFrame is like a tabular, you might want to select data using **indices** (0 for first row, 1 for second row, -1 for last row, etc.). \n",
    "\n",
    "In order to do so, you can use the method `iloc`."
   ]
  },
  {
   "cell_type": "code",
   "execution_count": null,
   "metadata": {
    "scrolled": true,
    "slideshow": {
     "slide_type": "subslide"
    }
   },
   "outputs": [],
   "source": [
    "# Rows:\n",
    "df.iloc[0] # First row of DataFrame\n",
    "df.iloc[1] # Second row of DataFrame\n",
    "df.iloc[-1] # Last row of DataFrame\n",
    "\n",
    "# Columns:\n",
    "df.iloc[:,0] # First column of DataFrame\n",
    "df.iloc[:,1] # Second column of DataFrame\n",
    "df.iloc[:,-1] # Last column of DataFrame"
   ]
  },
  {
   "cell_type": "markdown",
   "metadata": {},
   "source": [
    "In addition, you can also select specific columns (by using indices inside your `iloc` method, or by using keys outside of the `iloc` method)."
   ]
  },
  {
   "cell_type": "code",
   "execution_count": null,
   "metadata": {},
   "outputs": [],
   "source": [
    "# Multiple row and column selections using iloc and DataFrame\n",
    "df.iloc[0:5] # First five rows of dataframe\n",
    "df.iloc[:, 0:2] # First two columns of data frame with all rows\n",
    "df.iloc[[0,3,6,24], [0,2]] # 1st, 4th, 7th, 25th row + 1st and 3rd columns\n",
    "df.iloc[:5, 0] # First 5 rows and first column of DataFrame"
   ]
  },
  {
   "cell_type": "code",
   "execution_count": null,
   "metadata": {},
   "outputs": [],
   "source": [
    "# Getting actors_list of first row\n",
    "# METHOD 1\n",
    "print(df.iloc[0,4])\n",
    "\n",
    "# METHOD 2 - as df.iloc[0] is a Series, you can also get the actors_list like this\n",
    "print(df.iloc[0][\"actors_list\"])"
   ]
  },
  {
   "cell_type": "markdown",
   "metadata": {
    "slideshow": {
     "slide_type": "subslide"
    }
   },
   "source": [
    "### II.3.B. `loc`"
   ]
  },
  {
   "cell_type": "markdown",
   "metadata": {},
   "source": [
    "Now if you prefer to select data using indexes (for rows or columns or both), then you can use `loc` instead."
   ]
  },
  {
   "cell_type": "code",
   "execution_count": null,
   "metadata": {
    "scrolled": true,
    "slideshow": {
     "slide_type": "subslide"
    }
   },
   "outputs": [],
   "source": [
    "# If you prefer to use the keys, then you need to use loc:\n",
    "df.loc[\"The Usual Suspects\"]"
   ]
  },
  {
   "cell_type": "code",
   "execution_count": null,
   "metadata": {
    "scrolled": true,
    "slideshow": {
     "slide_type": "subslide"
    }
   },
   "outputs": [],
   "source": [
    "df.loc[\"The Usual Suspects\", \"actors_list\"]"
   ]
  },
  {
   "cell_type": "code",
   "execution_count": null,
   "metadata": {
    "scrolled": true,
    "slideshow": {
     "slide_type": "subslide"
    }
   },
   "outputs": [],
   "source": [
    "df.loc[\"Blue Valentine\":, [\"genre\", \"duration\"]]"
   ]
  },
  {
   "cell_type": "markdown",
   "metadata": {
    "slideshow": {
     "slide_type": "subslide"
    }
   },
   "source": [
    "### II.3.C Filtering data using boolean conditions"
   ]
  },
  {
   "cell_type": "markdown",
   "metadata": {},
   "source": [
    "An extremely powerful technique, that we introduced with NumPy arrays consists of **filtering data based on boolean condition**. \n",
    "\n",
    "You just need to use `loc` method described above combined with a boolean condition."
   ]
  },
  {
   "cell_type": "code",
   "execution_count": null,
   "metadata": {
    "slideshow": {
     "slide_type": "subslide"
    }
   },
   "outputs": [],
   "source": [
    "# Let's retrieve only \"Drama\" movies\n",
    "drama_movies_bool = df['genre'] == \"Drama\"\n",
    "drama_movies_bool.head()"
   ]
  },
  {
   "cell_type": "code",
   "execution_count": null,
   "metadata": {},
   "outputs": [],
   "source": [
    "drama_movies = df.loc[drama_movies_bool]\n",
    "drama_movies.head()"
   ]
  },
  {
   "cell_type": "markdown",
   "metadata": {},
   "source": [
    "Again, in one line this time, let' retrieve all names and associated ratings of movies with a score superior to 9"
   ]
  },
  {
   "cell_type": "code",
   "execution_count": null,
   "metadata": {
    "scrolled": true
   },
   "outputs": [],
   "source": [
    "top_movies = df.loc[df[\"star_rating\"] > 9, [\"star_rating\"]]\n",
    "top_movies"
   ]
  },
  {
   "cell_type": "markdown",
   "metadata": {
    "slideshow": {
     "slide_type": "subslide"
    }
   },
   "source": [
    "---"
   ]
  },
  {
   "cell_type": "markdown",
   "metadata": {
    "slideshow": {
     "slide_type": "subslide"
    }
   },
   "source": [
    "# III. Data modification"
   ]
  },
  {
   "cell_type": "markdown",
   "metadata": {
    "slideshow": {
     "slide_type": "slide"
    }
   },
   "source": [
    "## III.1. Adding/removing columns & rows"
   ]
  },
  {
   "cell_type": "markdown",
   "metadata": {},
   "source": [
    "We can add and remove column(s) quite easily with Pandas. Let's create three new columns:\n",
    "- **`type`**: containing the string \"movies\" in every row\n",
    "- **`long_movie`**: referencing if a movie lasted more than 180 minutes\n",
    "- **`main_actor`**: containing the first actor contained in `actors_list`"
   ]
  },
  {
   "cell_type": "code",
   "execution_count": null,
   "metadata": {
    "scrolled": true
   },
   "outputs": [],
   "source": [
    "df.head()"
   ]
  },
  {
   "cell_type": "code",
   "execution_count": null,
   "metadata": {
    "scrolled": true
   },
   "outputs": [],
   "source": [
    "# 1. Column with a fixed value \n",
    "df[\"type\"] = \"movie\"\n",
    "\n",
    "# 2. Column based on an other column\n",
    "df[\"long_movie\"] = df[\"duration\"] > 160\n",
    "\n",
    "# 3. Column created with a lambda function\n",
    "# We need to use eval function as actors_list contains strings\n",
    "df[\"main_actor\"] = df[\"actors_list\"].apply(lambda x: eval(x)[0])\n",
    "\n",
    "df.head()"
   ]
  },
  {
   "cell_type": "markdown",
   "metadata": {},
   "source": [
    "**`type`** column is quite useless, let's remove it."
   ]
  },
  {
   "cell_type": "code",
   "execution_count": null,
   "metadata": {
    "scrolled": true,
    "slideshow": {
     "slide_type": "subslide"
    }
   },
   "outputs": [],
   "source": [
    "df = df.drop(['type'], axis=1) # axis=1 corresponds to column, axis=0 corresponds to row\n",
    "df.head()"
   ]
  },
  {
   "cell_type": "markdown",
   "metadata": {
    "slideshow": {
     "slide_type": "slide"
    }
   },
   "source": [
    "## III.2. Handling missing values"
   ]
  },
  {
   "cell_type": "markdown",
   "metadata": {},
   "source": [
    "Now we know how to create and handle dataframes, but why is it so helpful for data scientists? Well, let's see how it can be helpful to handle missing value on a new dataset:"
   ]
  },
  {
   "cell_type": "code",
   "execution_count": null,
   "metadata": {
    "scrolled": true,
    "slideshow": {
     "slide_type": "subslide"
    }
   },
   "outputs": [],
   "source": [
    "# Let's import a new dataset\n",
    "new_df = pd.read_csv('input/class-grades.csv')\n",
    "new_df.head(10)"
   ]
  },
  {
   "cell_type": "markdown",
   "metadata": {},
   "source": [
    "Okay we have some **`?`** values, but what does **`info()`** tell us about it?"
   ]
  },
  {
   "cell_type": "code",
   "execution_count": null,
   "metadata": {
    "scrolled": true,
    "slideshow": {
     "slide_type": "subslide"
    }
   },
   "outputs": [],
   "source": [
    "# Unfortunately, it doesn't tell us a lot about it!\n",
    "new_df.info()"
   ]
  },
  {
   "cell_type": "markdown",
   "metadata": {},
   "source": [
    "We can fix this using the following command to replace **`?`** values by **`NaN`**:"
   ]
  },
  {
   "cell_type": "code",
   "execution_count": null,
   "metadata": {},
   "outputs": [],
   "source": [
    "new_df = pd.read_csv('input/class-grades.csv', na_values=['?'])"
   ]
  },
  {
   "cell_type": "code",
   "execution_count": null,
   "metadata": {
    "scrolled": true
   },
   "outputs": [],
   "source": [
    "# Now, we can check that the number of non-null values has been properly updated!\n",
    "new_df.info()"
   ]
  },
  {
   "cell_type": "markdown",
   "metadata": {},
   "source": [
    "So there are **`NaN`** in our table. We can choose to remove them for example:"
   ]
  },
  {
   "cell_type": "code",
   "execution_count": null,
   "metadata": {
    "scrolled": false,
    "slideshow": {
     "slide_type": "subslide"
    }
   },
   "outputs": [],
   "source": [
    "# Well we have some NaN in our data\n",
    "# A naive approach would be to remove them\n",
    "drop_df = new_df.dropna()\n",
    "drop_df.info()"
   ]
  },
  {
   "cell_type": "markdown",
   "metadata": {
    "slideshow": {
     "slide_type": "slide"
    }
   },
   "source": [
    "---"
   ]
  },
  {
   "cell_type": "markdown",
   "metadata": {
    "slideshow": {
     "slide_type": "slide"
    }
   },
   "source": [
    "## III.3. Concatenation and merging"
   ]
  },
  {
   "cell_type": "markdown",
   "metadata": {},
   "source": [
    "### III.3.A. `concat()`"
   ]
  },
  {
   "cell_type": "code",
   "execution_count": null,
   "metadata": {
    "slideshow": {
     "slide_type": "subslide"
    }
   },
   "outputs": [],
   "source": [
    "# Let's create two series\n",
    "s1 = pd.Series(['apple', 'orange', 'banana'],\n",
    "               index=[1, 2, 4])\n",
    "s2 = pd.Series(['pineapple', 'wildberry', 'raspberry'],\n",
    "               index=[3, 2, 6])\n",
    "\n",
    "print(s1)\n",
    "print(s2)"
   ]
  },
  {
   "cell_type": "markdown",
   "metadata": {
    "slideshow": {
     "slide_type": "fragment"
    }
   },
   "source": [
    "And let's try to concatenate them:"
   ]
  },
  {
   "cell_type": "code",
   "execution_count": null,
   "metadata": {
    "scrolled": false,
    "slideshow": {
     "slide_type": "subslide"
    }
   },
   "outputs": [],
   "source": [
    "# What if we concatenate them?\n",
    "pd.concat([s1, s2], axis=0)"
   ]
  },
  {
   "cell_type": "markdown",
   "metadata": {
    "slideshow": {
     "slide_type": "fragment"
    }
   },
   "source": [
    "Okay that worked, but you see the indices are not necessarily ordered, so be careful when you concatenate!\n",
    "\n",
    "Here we made the concatenation on the axis 0 (i.e. the first axis, the rows). We can also make the concatenation on the 1 axis (i.e. the columns):"
   ]
  },
  {
   "cell_type": "code",
   "execution_count": null,
   "metadata": {
    "scrolled": true,
    "slideshow": {
     "slide_type": "fragment"
    }
   },
   "outputs": [],
   "source": [
    "# What if we concatenate them?\n",
    "pd.concat([s1, s2], axis=1)"
   ]
  },
  {
   "cell_type": "markdown",
   "metadata": {
    "slideshow": {
     "slide_type": "fragment"
    }
   },
   "source": [
    "In this case, the index was used to perform the concatenation: again, be careful when you have to concatenate, you can easily end up with NaN values!"
   ]
  },
  {
   "cell_type": "markdown",
   "metadata": {
    "slideshow": {
     "slide_type": "subslide"
    }
   },
   "source": [
    "### III.3.B. `merge()`"
   ]
  },
  {
   "cell_type": "code",
   "execution_count": null,
   "metadata": {
    "slideshow": {
     "slide_type": "fragment"
    }
   },
   "outputs": [],
   "source": [
    "# Let's create two new dataframes\n",
    "meal = ['pizza', 'pasta', 'burger']\n",
    "prices = [11.8, 12.9, 15.60]\n",
    "calories = [870, 790, 950]\n",
    "\n",
    "prices = pd.DataFrame({'meal': meal, 'prices': prices})\n",
    "calories = pd.DataFrame(calories, index=meal, columns=['calories'])"
   ]
  },
  {
   "cell_type": "code",
   "execution_count": null,
   "metadata": {
    "slideshow": {
     "slide_type": "fragment"
    }
   },
   "outputs": [],
   "source": [
    "prices"
   ]
  },
  {
   "cell_type": "code",
   "execution_count": null,
   "metadata": {
    "slideshow": {
     "slide_type": "fragment"
    }
   },
   "outputs": [],
   "source": [
    "calories"
   ]
  },
  {
   "cell_type": "code",
   "execution_count": null,
   "metadata": {
    "scrolled": true,
    "slideshow": {
     "slide_type": "fragment"
    }
   },
   "outputs": [],
   "source": [
    "# We can merge them in a smart way:\n",
    "prices.merge(calories, left_on='meal', right_index=True)"
   ]
  },
  {
   "cell_type": "code",
   "execution_count": null,
   "metadata": {},
   "outputs": [],
   "source": []
  },
  {
   "cell_type": "code",
   "execution_count": null,
   "metadata": {},
   "outputs": [],
   "source": []
  },
  {
   "cell_type": "code",
   "execution_count": null,
   "metadata": {},
   "outputs": [],
   "source": []
  }
 ],
 "metadata": {
  "kernelspec": {
   "display_name": "Python 3",
   "language": "python",
   "name": "python3"
  },
  "language_info": {
   "codemirror_mode": {
    "name": "ipython",
    "version": 3
   },
   "file_extension": ".py",
   "mimetype": "text/x-python",
   "name": "python",
   "nbconvert_exporter": "python",
   "pygments_lexer": "ipython3",
   "version": "3.7.3"
  }
 },
 "nbformat": 4,
 "nbformat_minor": 2
}
