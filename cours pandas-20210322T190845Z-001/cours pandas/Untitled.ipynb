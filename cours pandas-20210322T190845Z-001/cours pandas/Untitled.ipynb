{
 "cells": [
  {
   "cell_type": "markdown",
   "metadata": {},
   "source": [
    "# 03-02\n",
    "\n",
    "## Challenge 01 - Cars 🚙\n",
    "\n",
    "---\n",
    "\n",
    "![](https://w-dog.net/wallpapers/2/1/376802475833750.jpg)\n",
    "\n",
    "\n",
    "## Instructions\n",
    "\n",
    "In this challenge, you will play with a new DataFrame listing cars models in order to master the basics methods of Pandas library.\n",
    "\n",
    "Open the associated notebook and follow the instructions.\n"
   ]
  },
  {
   "cell_type": "markdown",
   "metadata": {},
   "source": [
    "# 03-02\n",
    "\n",
    "## Challenge 02 - Pokemon\n",
    "\n",
    "---\n",
    "\n",
    "![](https://images.unsplash.com/photo-1471014706828-7f1b12e6d88b?ixlib=rb-1.2.1&ixid=eyJhcHBfaWQiOjEyMDd9&auto=format&fit=crop&w=1502&q=80)\n",
    "Picture by [David Grandmougin](https://unsplash.com/photos/Am1io6KusFM)\n",
    "\n",
    "\n",
    "## Instructions\n",
    "\n",
    "Open the `src/02-pokemon.ipynb` notebook and follow the instructions.\n"
   ]
  },
  {
   "cell_type": "markdown",
   "metadata": {},
   "source": [
    "# 03-02\n",
    "\n",
    "## Challenge 03 - Advanced manipulation 🥋\n",
    "\n",
    "---\n",
    "\n",
    "![](https://cdn.lifehack.org/wp-content/uploads/2015/08/business-tips-from-bruce-lee.jpg)\n",
    "\n",
    "\n",
    "## Instructions\n",
    "\n",
    "In this challenge, you will explore new advanced Pandas manipulation techniques.\n",
    "\n",
    "Open the associated notebook and follow the instructions.\n"
   ]
  },
  {
   "cell_type": "markdown",
   "metadata": {},
   "source": [
    "# 03-02\n",
    "\n",
    "## Challenge 04 - Minesweeper 💣\n",
    "\n",
    "![](http://minesweeperonline.com/og_image.jpg)\n",
    "\n",
    "---\n",
    "\n",
    "## Context\n",
    "\n",
    "Remember the game Minesweeper? I'm sure you also lost lot of hours playing on an old Windows machine.\n",
    "\n",
    "If you are not familiar with the game, you can have a try now: http://minesweeperonline.com . Watch out it is super addictive.\n",
    "\n",
    "To sum up the rules, imagine a grid of squares: some of these squares hide a **mine**.\n",
    "- If you click on a mine, you lose instantly ☠️.\n",
    "- If you click on a safe square, you can breath (and live another day) - and the square reveals a number telling you *how many mines are found in the squares that are immediately adjacent*. ✅\n",
    "\n",
    "The aim of the game is to **uncover all squares in the grid that do not contain a mine**.\n",
    "\n",
    "## Instructions\n",
    "\n",
    "In this challenge, using Python and the power of Pandas library, we will code an algorithm that randomly creates a new grid game.\n",
    "\n",
    "Open the associated notebook and follow along!\n"
   ]
  },
  {
   "cell_type": "code",
   "execution_count": 2,
   "metadata": {},
   "outputs": [],
   "source": [
    "import pandas as pd"
   ]
  },
  {
   "cell_type": "code",
   "execution_count": null,
   "metadata": {},
   "outputs": [],
   "source": [
    "pd.read_csv()"
   ]
  }
 ],
 "metadata": {
  "kernelspec": {
   "display_name": "Python 3",
   "language": "python",
   "name": "python3"
  },
  "language_info": {
   "codemirror_mode": {
    "name": "ipython",
    "version": 3
   },
   "file_extension": ".py",
   "mimetype": "text/x-python",
   "name": "python",
   "nbconvert_exporter": "python",
   "pygments_lexer": "ipython3",
   "version": "3.7.3"
  }
 },
 "nbformat": 4,
 "nbformat_minor": 2
}
