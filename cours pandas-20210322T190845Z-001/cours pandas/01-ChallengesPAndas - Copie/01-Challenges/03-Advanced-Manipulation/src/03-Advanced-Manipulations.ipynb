{
 "cells": [
  {
   "cell_type": "markdown",
   "metadata": {},
   "source": [
    "# 03 - Advanced Manipulations 🥋"
   ]
  },
  {
   "cell_type": "markdown",
   "metadata": {},
   "source": [
    "---"
   ]
  },
  {
   "cell_type": "markdown",
   "metadata": {},
   "source": [
    "![](https://cdn.lifehack.org/wp-content/uploads/2015/08/business-tips-from-bruce-lee.jpg)"
   ]
  },
  {
   "cell_type": "markdown",
   "metadata": {},
   "source": [
    "---"
   ]
  },
  {
   "cell_type": "markdown",
   "metadata": {},
   "source": [
    "In this challenge, we will explore new advanced Pandas manipulation techniques.\n",
    "\n",
    "**Q1**. Start by importing pandas as usual. What version of Pandas are you using?"
   ]
  },
  {
   "cell_type": "code",
   "execution_count": 2,
   "metadata": {},
   "outputs": [
    {
     "name": "stdout",
     "output_type": "stream",
     "text": [
      "Pandas version=0.23.4\n"
     ]
    }
   ],
   "source": [
    "# TODO: import numpy and pandas\n",
    "### STRIP_START ###\n",
    "import numpy as np\n",
    "import pandas as pd\n",
    "print(\"Pandas version={}\".format(pd.__version__))\n",
    "### STRIP_END ###"
   ]
  },
  {
   "cell_type": "markdown",
   "metadata": {},
   "source": [
    "We create two new Series that we want to manipulate in a DataFrame."
   ]
  },
  {
   "cell_type": "code",
   "execution_count": 4,
   "metadata": {},
   "outputs": [],
   "source": [
    "series_1 = pd.Series(np.arange(10))\n",
    "series_2 = pd.Series(list('abcdefghij'))"
   ]
  },
  {
   "cell_type": "markdown",
   "metadata": {},
   "source": [
    "**Q2**. Have a look at both Series.\n",
    "\n",
    "- Merge those two series into a single DataFrame (one column per Series) and display results\n",
    "- Stack those two Series vertically and display results"
   ]
  },
  {
   "cell_type": "code",
   "execution_count": 8,
   "metadata": {},
   "outputs": [
    {
     "data": {
      "text/html": [
       "<div>\n",
       "<style scoped>\n",
       "    .dataframe tbody tr th:only-of-type {\n",
       "        vertical-align: middle;\n",
       "    }\n",
       "\n",
       "    .dataframe tbody tr th {\n",
       "        vertical-align: top;\n",
       "    }\n",
       "\n",
       "    .dataframe thead th {\n",
       "        text-align: right;\n",
       "    }\n",
       "</style>\n",
       "<table border=\"1\" class=\"dataframe\">\n",
       "  <thead>\n",
       "    <tr style=\"text-align: right;\">\n",
       "      <th></th>\n",
       "      <th>0</th>\n",
       "      <th>1</th>\n",
       "    </tr>\n",
       "  </thead>\n",
       "  <tbody>\n",
       "    <tr>\n",
       "      <th>0</th>\n",
       "      <td>0</td>\n",
       "      <td>a</td>\n",
       "    </tr>\n",
       "    <tr>\n",
       "      <th>1</th>\n",
       "      <td>1</td>\n",
       "      <td>b</td>\n",
       "    </tr>\n",
       "    <tr>\n",
       "      <th>2</th>\n",
       "      <td>2</td>\n",
       "      <td>c</td>\n",
       "    </tr>\n",
       "    <tr>\n",
       "      <th>3</th>\n",
       "      <td>3</td>\n",
       "      <td>d</td>\n",
       "    </tr>\n",
       "    <tr>\n",
       "      <th>4</th>\n",
       "      <td>4</td>\n",
       "      <td>e</td>\n",
       "    </tr>\n",
       "    <tr>\n",
       "      <th>5</th>\n",
       "      <td>5</td>\n",
       "      <td>f</td>\n",
       "    </tr>\n",
       "    <tr>\n",
       "      <th>6</th>\n",
       "      <td>6</td>\n",
       "      <td>g</td>\n",
       "    </tr>\n",
       "    <tr>\n",
       "      <th>7</th>\n",
       "      <td>7</td>\n",
       "      <td>h</td>\n",
       "    </tr>\n",
       "    <tr>\n",
       "      <th>8</th>\n",
       "      <td>8</td>\n",
       "      <td>i</td>\n",
       "    </tr>\n",
       "    <tr>\n",
       "      <th>9</th>\n",
       "      <td>9</td>\n",
       "      <td>j</td>\n",
       "    </tr>\n",
       "  </tbody>\n",
       "</table>\n",
       "</div>"
      ],
      "text/plain": [
       "   0  1\n",
       "0  0  a\n",
       "1  1  b\n",
       "2  2  c\n",
       "3  3  d\n",
       "4  4  e\n",
       "5  5  f\n",
       "6  6  g\n",
       "7  7  h\n",
       "8  8  i\n",
       "9  9  j"
      ]
     },
     "execution_count": 8,
     "metadata": {},
     "output_type": "execute_result"
    }
   ],
   "source": [
    "# TODO: Concatenate the two series horizontally\n",
    "### STRIP_START ###\n",
    "horizontal = pd.concat([series1, series2], axis=1)\n",
    "horizontal\n",
    "### STRIP_END ###"
   ]
  },
  {
   "cell_type": "markdown",
   "metadata": {},
   "source": [
    "Concatenate those two series *s1* and *s2* vertically and print the result."
   ]
  },
  {
   "cell_type": "code",
   "execution_count": 10,
   "metadata": {
    "scrolled": true
   },
   "outputs": [
    {
     "data": {
      "text/plain": [
       "0    0\n",
       "1    1\n",
       "2    2\n",
       "3    3\n",
       "4    4\n",
       "5    5\n",
       "6    6\n",
       "7    7\n",
       "8    8\n",
       "9    9\n",
       "0    a\n",
       "1    b\n",
       "2    c\n",
       "3    d\n",
       "4    e\n",
       "5    f\n",
       "6    g\n",
       "7    h\n",
       "8    i\n",
       "9    j\n",
       "dtype: object"
      ]
     },
     "execution_count": 10,
     "metadata": {},
     "output_type": "execute_result"
    }
   ],
   "source": [
    "# TODO: stack the two series vertically\n",
    "### STRIP_START ###\n",
    "vertical = pd.concat([series_1, series_2], axis=0)\n",
    "vertical\n",
    "### STRIP_END ###"
   ]
  },
  {
   "cell_type": "markdown",
   "metadata": {},
   "source": [
    "**Q3**. We create two new series *s1* and *s2*\n",
    "\n",
    "- Display the items in *s1* that are not present in *s2*.\n",
    "\n",
    "> 🔦 **Hint**: you may need to use the `~` operator and the pandas function `isin()`\n",
    "\n",
    "- Display the items that are not common to *s1* and *s2*.\n",
    "\n",
    "> 🔦 **Hint**: you might need to use the NumPy functions `intersect1d` and `union1d`"
   ]
  },
  {
   "cell_type": "code",
   "execution_count": 13,
   "metadata": {},
   "outputs": [],
   "source": [
    "s1 = pd.Series([1, 2, 3, 4, 5, 6, 7])\n",
    "s2 = pd.Series([4, 5, 6, 7, 8, 9, 10])"
   ]
  },
  {
   "cell_type": "code",
   "execution_count": 14,
   "metadata": {},
   "outputs": [
    {
     "data": {
      "text/plain": [
       "0    1\n",
       "1    2\n",
       "2    3\n",
       "dtype: int64"
      ]
     },
     "execution_count": 14,
     "metadata": {},
     "output_type": "execute_result"
    }
   ],
   "source": [
    "# TODO: Display the items of n1 not present in n2\n",
    "### STRIP_START ###\n",
    "s1[~s1.isin(s2)]\n",
    "### STRIP_END ###"
   ]
  },
  {
   "cell_type": "code",
   "execution_count": 11,
   "metadata": {
    "scrolled": false
   },
   "outputs": [
    {
     "name": "stdout",
     "output_type": "stream",
     "text": [
      "0     1\n",
      "1     2\n",
      "2     3\n",
      "7     8\n",
      "8     9\n",
      "9    10\n",
      "dtype: int64\n"
     ]
    }
   ],
   "source": [
    "# TODO: Display the items not common to both s1 and s2\n",
    "### STRIP_START ###\n",
    "union = pd.Series(np.union1d(s1, s2))\n",
    "intersection = pd.Series(np.intersect1d(s1, s2))\n",
    "print(union[~union.isin(intersection)])\n",
    "### STRIP_END ###"
   ]
  },
  {
   "cell_type": "markdown",
   "metadata": {},
   "source": [
    "**Q4**. Again, we create two new Series: `alphabet` and `indices`. Display the letters from the Series `alphabet` coressponding the indexes contained in `indices`."
   ]
  },
  {
   "cell_type": "code",
   "execution_count": 19,
   "metadata": {},
   "outputs": [],
   "source": [
    "alphabet = pd.Series(list('abcdefghijklmnopqrstuvwxyz'))\n",
    "indices = pd.Series([7,4,11,11,14])"
   ]
  },
  {
   "cell_type": "code",
   "execution_count": 23,
   "metadata": {},
   "outputs": [
    {
     "data": {
      "text/plain": [
       "7     h\n",
       "4     e\n",
       "11    l\n",
       "11    l\n",
       "14    o\n",
       "dtype: object"
      ]
     },
     "execution_count": 23,
     "metadata": {},
     "output_type": "execute_result"
    }
   ],
   "source": [
    "# TODO: Display the letters from alphabet corresponding to the indexes contained in indices\n",
    "### STRIP_START ###\n",
    "# METHOD 1:\n",
    "alphabet[indices]\n",
    "# METHOD 2:\n",
    "alphabet.take(indices)\n",
    "### STRIP_END ###"
   ]
  },
  {
   "cell_type": "markdown",
   "metadata": {},
   "source": [
    "**Q5**. Finally, we create a new Series `random_series` of 20 random integers (between 1 and 8). In order to work on **reproducible results**, we specify a **random seed** of 0.\n",
    "\n",
    "Find the two most frequent values in `random_series` and replace the other values by -1."
   ]
  },
  {
   "cell_type": "code",
   "execution_count": 28,
   "metadata": {
    "scrolled": true
   },
   "outputs": [],
   "source": [
    "np.random.seed(0)\n",
    "random_series = pd.Series(np.random.randint(1, 8, 20))"
   ]
  },
  {
   "cell_type": "code",
   "execution_count": 33,
   "metadata": {},
   "outputs": [
    {
     "data": {
      "text/plain": [
       "0    -1\n",
       "1    -1\n",
       "2     1\n",
       "3     4\n",
       "4     4\n",
       "5     4\n",
       "6    -1\n",
       "7     4\n",
       "8    -1\n",
       "9    -1\n",
       "10   -1\n",
       "11   -1\n",
       "12    1\n",
       "13    1\n",
       "14   -1\n",
       "15   -1\n",
       "16   -1\n",
       "17   -1\n",
       "18   -1\n",
       "19    1\n",
       "dtype: int64"
      ]
     },
     "execution_count": 33,
     "metadata": {},
     "output_type": "execute_result"
    }
   ],
   "source": [
    "# TODO: Find the two most frequent values of random_series\n",
    "# and replace all other values by -1\n",
    "### STRIP_START ###\n",
    "most_frequent = random_series.value_counts().index[:2]\n",
    "random_series_new = random_series\n",
    "random_series_new[~random_series_new.isin(most_frequent)]=-1\n",
    "random_series_new\n",
    "### STRIP_END ###"
   ]
  }
 ],
 "metadata": {
  "kernelspec": {
   "display_name": "Python 3",
   "language": "python",
   "name": "python3"
  },
  "language_info": {
   "codemirror_mode": {
    "name": "ipython",
    "version": 3
   },
   "file_extension": ".py",
   "mimetype": "text/x-python",
   "name": "python",
   "nbconvert_exporter": "python",
   "pygments_lexer": "ipython3",
   "version": "3.7.3"
  }
 },
 "nbformat": 4,
 "nbformat_minor": 2
}
