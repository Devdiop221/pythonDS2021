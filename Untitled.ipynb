{
 "cells": [
  {
   "cell_type": "code",
   "execution_count": 12,
   "id": "composed-syntax",
   "metadata": {},
   "outputs": [
    {
     "name": "stdout",
     "output_type": "stream",
     "text": [
      "Entrer votre note : 17\n",
      "[17.0]\n",
      "Il y a  1 note(s) déjà saisies\n",
      "La Moyenne : 17.0\n",
      "La note Minimum : 17.0\n",
      "La note maximum est : 17.0\n",
      "Entrer votre note : 15\n",
      "[17.0, 15.0]\n",
      "Il y a  2 note(s) déjà saisies\n",
      "La Moyenne : 16.0\n",
      "La note Minimum : 15.0\n",
      "La note maximum est : 17.0\n",
      "Entrer votre note : 2\n",
      "[17.0, 15.0, 2.0]\n",
      "Il y a  3 note(s) déjà saisies\n",
      "La Moyenne : 11.333333333333334\n",
      "La note Minimum : 2.0\n",
      "La note maximum est : 17.0\n",
      "Entrer votre note : -5\n"
     ]
    }
   ],
   "source": [
    "notes = []\n",
    " \n",
    "while True:\n",
    "    note = float(input(\"Entrer votre note : \"))\n",
    " \n",
    "    if note < 0:\n",
    "        break\n",
    " \n",
    "    notes.append(note)\n",
    " \n",
    "    print(notes)\n",
    "    print(\"Il y a \",len(notes),\"note(s) déjà saisies\")\n",
    "    print(\"La Moyenne :\", sum(notes) / float(len(notes)))\n",
    "    print(\"La note Minimum :\", min(notes))\n",
    "    print(\"La note maximum est :\", max(notes))"
   ]
  },
  {
   "cell_type": "code",
   "execution_count": null,
   "id": "involved-ability",
   "metadata": {},
   "outputs": [],
   "source": []
  },
  {
   "cell_type": "code",
   "execution_count": null,
   "id": "atomic-poetry",
   "metadata": {},
   "outputs": [],
   "source": []
  }
 ],
 "metadata": {
  "kernelspec": {
   "display_name": "Python 3.8.5 64-bit",
   "language": "python",
   "name": "python38564bitca81234bd0c544098147b138bc1b9d46"
  },
  "language_info": {
   "codemirror_mode": {
    "name": "ipython",
    "version": 3
   },
   "file_extension": ".py",
   "mimetype": "text/x-python",
   "name": "python",
   "nbconvert_exporter": "python",
   "pygments_lexer": "ipython3",
   "version": "3.8.5"
  }
 },
 "nbformat": 4,
 "nbformat_minor": 5
}
