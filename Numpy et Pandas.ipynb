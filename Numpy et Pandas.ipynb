{
 "cells": [
  {
   "cell_type": "code",
   "execution_count": null,
   "id": "noticed-people",
   "metadata": {},
   "outputs": [],
   "source": []
  },
  {
   "cell_type": "markdown",
   "id": "civic-ghana",
   "metadata": {},
   "source": [
    "NumPy peut être installé sur un PC à l'aide de **pip ou brew**, mais si l'utilisateur utilise le Jupyter Notebook, il n'est pas nécessaire de l'installer. NumPy est déjà installé dans Jupyter Notebook. Je vais vous suggérer d'utiliser le bloc-notes Jupyter comme IDE car nous exécutons tout le code du bloc-notes Jupyter. Nous l'avons déjà montré au chapitre. Premiers pas avec les bibliothèques Python, comment installer Anaconda, qui est une suite complète pour l'analyse des données. Les tableaux NumPy sont une série d'éléments homogènes. Homogène signifie que le tableau aura tous les éléments du même type de données. Créons un tableau en utilisant NumPy. Vous pouvez créer un tableau à l'aide de la fonction array () avec une liste d'éléments. Les utilisateurs peuvent également corriger le type de données d'un tableau. Les types de données possibles sont bool, int, float, long, double et long double."
   ]
  },
  {
   "cell_type": "markdown",
   "id": "furnished-victim",
   "metadata": {},
   "source": [
    "Voyons comment créer un tableau vide:"
   ]
  },
  {
   "cell_type": "code",
   "execution_count": 2,
   "id": "permanent-sport",
   "metadata": {},
   "outputs": [
    {
     "name": "stdout",
     "output_type": "stream",
     "text": [
      "[ 2  4  6  8 10]\n"
     ]
    }
   ],
   "source": [
    "# Creating an array\n",
    "import numpy as np\n",
    "a = np.array([2,4,6,8,10])\n",
    "print(a)"
   ]
  },
  {
   "cell_type": "markdown",
   "id": "smart-hudson",
   "metadata": {},
   "source": [
    "Une autre façon de créer un tableau NumPy est d'utiliser arange (). Il crée un tableau NumPy régulièrement espacé. Trois valeurs - start, stop et step - peuvent être transmises à la fonction arange (start, [stop], step). Le début est la valeur initiale de la plage, l'arrêt est la dernière valeur de la plage et le pas est l'incrément dans cette plage. Le paramètre d'arrêt est obligatoire. Dans l'exemple suivant, nous avons utilisé 1 comme paramètre de départ et 11 comme paramètre d'arrêt. La fonction arange (1,11) renverra 1 à 10 valeurs avec un pas car le pas est, par défaut, 1. La fonction arrange () génère une valeur qui est inférieure de un à la valeur du paramètre stop. Comprenons cela à travers l'exemple suivant:"
   ]
  },
  {
   "cell_type": "code",
   "execution_count": 3,
   "id": "weekly-lawsuit",
   "metadata": {},
   "outputs": [
    {
     "name": "stdout",
     "output_type": "stream",
     "text": [
      "[ 1  2  3  4  5  6  7  8  9 10]\n"
     ]
    }
   ],
   "source": [
    "# Creating an array using arange()\n",
    "import numpy as np\n",
    "a = np.arange(1,11)\n",
    "print(a)"
   ]
  },
  {
   "cell_type": "markdown",
   "id": "rough-dividend",
   "metadata": {},
   "source": [
    "Outre les fonctions array () et arange (), il existe d'autres options, telles que zeros (), ones (), full (), eye () et random (), qui peuvent également être utilisées pour créer un tableau NumPy , car ces fonctions sont des espaces réservés initiaux. Voici une description détaillée de chaque fonction:\n",
    "\n",
    "+ zeros (): La fonction zeros () crée un tableau pour une dimension donnée avec tous les zéros.\n",
    "\n",
    "+ ones (): La fonction ones () crée un tableau pour une dimension donnée avec tous les uns.\n",
    "\n",
    "+ fulls (): La fonction full () génère un tableau avec des valeurs constantes.\n",
    "\n",
    "+ eyes (): la fonction eye () crée une matrice d'identité.\n",
    "\n",
    "+ random (): La fonction random () crée un tableau avec une dimension donnée.\n",
    "\n",
    "Comprenons ces fonctions à travers l'exemple suivant:"
   ]
  },
  {
   "cell_type": "code",
   "execution_count": 5,
   "id": "decreased-mortgage",
   "metadata": {},
   "outputs": [
    {
     "name": "stdout",
     "output_type": "stream",
     "text": [
      "[[0. 0. 0.]\n",
      " [0. 0. 0.]\n",
      " [0. 0. 0.]]\n",
      "[[1. 1.]\n",
      " [1. 1.]]\n",
      "[[4 4]\n",
      " [4 4]]\n",
      "[[1. 0. 0. 0.]\n",
      " [0. 1. 0. 0.]\n",
      " [0. 0. 1. 0.]\n",
      " [0. 0. 0. 1.]]\n",
      "[[0.44330856 0.12092816 0.82515511]\n",
      " [0.36882698 0.50088047 0.89869541]\n",
      " [0.03265064 0.77712733 0.57939946]]\n"
     ]
    }
   ],
   "source": [
    "import numpy as np\n",
    "# Create an array of all zeros\n",
    "p = np.zeros((3,3))\n",
    "print(p)\n",
    "# Create an array of all ones\n",
    "q = np.ones((2,2))\n",
    "print(q)\n",
    "# Create a constant array\n",
    "r = np.full((2,2), 4)\n",
    "\n",
    "print(r)\n",
    "# Create a 2x2 identity matrix\n",
    "s = np.eye(4)\n",
    "print(s)\n",
    "# Create an array filled with random values\n",
    "t = np.random.random((3,3))\n",
    "print(t)"
   ]
  },
  {
   "cell_type": "markdown",
   "id": "average-advertiser",
   "metadata": {},
   "source": [
    "In the preceding code, we have seen some built-in functions for creating arrays with all-\n",
    "zero values, all-one values, and all-constant values. After that, we have created the identity\n",
    "matrix using the eye() function and a random matrix using the random.random()\n",
    "function. Let's see some other array features in the next section."
   ]
  },
  {
   "cell_type": "code",
   "execution_count": null,
   "id": "excessive-block",
   "metadata": {},
   "outputs": [],
   "source": []
  }
 ],
 "metadata": {
  "kernelspec": {
   "display_name": "Python 3.8.5 64-bit",
   "language": "python",
   "name": "python38564bitca81234bd0c544098147b138bc1b9d46"
  },
  "language_info": {
   "codemirror_mode": {
    "name": "ipython",
    "version": 3
   },
   "file_extension": ".py",
   "mimetype": "text/x-python",
   "name": "python",
   "nbconvert_exporter": "python",
   "pygments_lexer": "ipython3",
   "version": "3.8.5"
  }
 },
 "nbformat": 4,
 "nbformat_minor": 5
}
